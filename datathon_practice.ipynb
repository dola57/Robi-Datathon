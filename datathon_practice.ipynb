{
  "nbformat": 4,
  "nbformat_minor": 0,
  "metadata": {
    "colab": {
      "name": "datathon_practice.ipynb",
      "provenance": [],
      "collapsed_sections": []
    },
    "kernelspec": {
      "name": "python3",
      "display_name": "Python 3"
    },
    "language_info": {
      "name": "python"
    }
  },
  "cells": [
    {
      "cell_type": "code",
      "execution_count": 1,
      "metadata": {
        "colab": {
          "base_uri": "https://localhost:8080/",
          "height": 299
        },
        "id": "9TKWCZA3zzwo",
        "outputId": "8bac51c8-4595-484a-e8fb-6f3b8f289838"
      },
      "outputs": [
        {
          "output_type": "execute_result",
          "data": {
            "text/plain": [
              "                                                  id gender s11 s12  s13 s16  \\\n",
              "0  b'gAAAAABinOicS09vrmgh0_JyEHihI13ptO0rCyHP7l76...      M   Y   N    1   D   \n",
              "1  b'gAAAAABinOiWGC1WhR6WYP0DA5ssGv9rIekrWUwCdJ8F...      M   Y   Y    1   D   \n",
              "2  b'gAAAAABinOibTcOBFIVeA4nVF3FuFz_QX3ZlPPFc21gS...      M   Y   Y    1   D   \n",
              "3  b'gAAAAABinOig-g3-Q1ggjlMhfUSdn21Aj5yVVeVvXbis...      F   Y   Y    1   D   \n",
              "4  b'gAAAAABinOiXdoaNUzihOSbyY1tjWtd5EgMaXkkvH6SV...      M   N   Y    1   B   \n",
              "\n",
              "  s17 s18  s48 s52  ...        n7        n8        n9       n10       n11 n12  \\\n",
              "0   D   B    0   1  ... -9.126056  1.732291  3.698504  4.804517  1.544484   0   \n",
              "1   D   B    1   1  ... -9.098287  1.505885  6.791357  6.110416  1.712354   0   \n",
              "2   D   B    0   1  ... -9.234894  1.503828  4.109685  3.953226  1.804260   0   \n",
              "3   D   B    0   1  ... -9.378025  1.485863  7.265876  4.559419  1.537645   0   \n",
              "4   D   D    1   l  ... -9.261962  1.619210  3.737647  4.052003  1.637831   0   \n",
              "\n",
              "   n13       n14 n15 label  \n",
              "0    0  0.631220   5     0  \n",
              "1    0  0.392746   3     1  \n",
              "2    0  0.222537   2     0  \n",
              "3    0  0.154409   4     0  \n",
              "4    1  0.737560   1     0  \n",
              "\n",
              "[5 rows x 36 columns]"
            ],
            "text/html": [
              "\n",
              "  <div id=\"df-7343b125-6345-4b45-be53-eca1d7c58e67\">\n",
              "    <div class=\"colab-df-container\">\n",
              "      <div>\n",
              "<style scoped>\n",
              "    .dataframe tbody tr th:only-of-type {\n",
              "        vertical-align: middle;\n",
              "    }\n",
              "\n",
              "    .dataframe tbody tr th {\n",
              "        vertical-align: top;\n",
              "    }\n",
              "\n",
              "    .dataframe thead th {\n",
              "        text-align: right;\n",
              "    }\n",
              "</style>\n",
              "<table border=\"1\" class=\"dataframe\">\n",
              "  <thead>\n",
              "    <tr style=\"text-align: right;\">\n",
              "      <th></th>\n",
              "      <th>id</th>\n",
              "      <th>gender</th>\n",
              "      <th>s11</th>\n",
              "      <th>s12</th>\n",
              "      <th>s13</th>\n",
              "      <th>s16</th>\n",
              "      <th>s17</th>\n",
              "      <th>s18</th>\n",
              "      <th>s48</th>\n",
              "      <th>s52</th>\n",
              "      <th>...</th>\n",
              "      <th>n7</th>\n",
              "      <th>n8</th>\n",
              "      <th>n9</th>\n",
              "      <th>n10</th>\n",
              "      <th>n11</th>\n",
              "      <th>n12</th>\n",
              "      <th>n13</th>\n",
              "      <th>n14</th>\n",
              "      <th>n15</th>\n",
              "      <th>label</th>\n",
              "    </tr>\n",
              "  </thead>\n",
              "  <tbody>\n",
              "    <tr>\n",
              "      <th>0</th>\n",
              "      <td>b'gAAAAABinOicS09vrmgh0_JyEHihI13ptO0rCyHP7l76...</td>\n",
              "      <td>M</td>\n",
              "      <td>Y</td>\n",
              "      <td>N</td>\n",
              "      <td>1</td>\n",
              "      <td>D</td>\n",
              "      <td>D</td>\n",
              "      <td>B</td>\n",
              "      <td>0</td>\n",
              "      <td>1</td>\n",
              "      <td>...</td>\n",
              "      <td>-9.126056</td>\n",
              "      <td>1.732291</td>\n",
              "      <td>3.698504</td>\n",
              "      <td>4.804517</td>\n",
              "      <td>1.544484</td>\n",
              "      <td>0</td>\n",
              "      <td>0</td>\n",
              "      <td>0.631220</td>\n",
              "      <td>5</td>\n",
              "      <td>0</td>\n",
              "    </tr>\n",
              "    <tr>\n",
              "      <th>1</th>\n",
              "      <td>b'gAAAAABinOiWGC1WhR6WYP0DA5ssGv9rIekrWUwCdJ8F...</td>\n",
              "      <td>M</td>\n",
              "      <td>Y</td>\n",
              "      <td>Y</td>\n",
              "      <td>1</td>\n",
              "      <td>D</td>\n",
              "      <td>D</td>\n",
              "      <td>B</td>\n",
              "      <td>1</td>\n",
              "      <td>1</td>\n",
              "      <td>...</td>\n",
              "      <td>-9.098287</td>\n",
              "      <td>1.505885</td>\n",
              "      <td>6.791357</td>\n",
              "      <td>6.110416</td>\n",
              "      <td>1.712354</td>\n",
              "      <td>0</td>\n",
              "      <td>0</td>\n",
              "      <td>0.392746</td>\n",
              "      <td>3</td>\n",
              "      <td>1</td>\n",
              "    </tr>\n",
              "    <tr>\n",
              "      <th>2</th>\n",
              "      <td>b'gAAAAABinOibTcOBFIVeA4nVF3FuFz_QX3ZlPPFc21gS...</td>\n",
              "      <td>M</td>\n",
              "      <td>Y</td>\n",
              "      <td>Y</td>\n",
              "      <td>1</td>\n",
              "      <td>D</td>\n",
              "      <td>D</td>\n",
              "      <td>B</td>\n",
              "      <td>0</td>\n",
              "      <td>1</td>\n",
              "      <td>...</td>\n",
              "      <td>-9.234894</td>\n",
              "      <td>1.503828</td>\n",
              "      <td>4.109685</td>\n",
              "      <td>3.953226</td>\n",
              "      <td>1.804260</td>\n",
              "      <td>0</td>\n",
              "      <td>0</td>\n",
              "      <td>0.222537</td>\n",
              "      <td>2</td>\n",
              "      <td>0</td>\n",
              "    </tr>\n",
              "    <tr>\n",
              "      <th>3</th>\n",
              "      <td>b'gAAAAABinOig-g3-Q1ggjlMhfUSdn21Aj5yVVeVvXbis...</td>\n",
              "      <td>F</td>\n",
              "      <td>Y</td>\n",
              "      <td>Y</td>\n",
              "      <td>1</td>\n",
              "      <td>D</td>\n",
              "      <td>D</td>\n",
              "      <td>B</td>\n",
              "      <td>0</td>\n",
              "      <td>1</td>\n",
              "      <td>...</td>\n",
              "      <td>-9.378025</td>\n",
              "      <td>1.485863</td>\n",
              "      <td>7.265876</td>\n",
              "      <td>4.559419</td>\n",
              "      <td>1.537645</td>\n",
              "      <td>0</td>\n",
              "      <td>0</td>\n",
              "      <td>0.154409</td>\n",
              "      <td>4</td>\n",
              "      <td>0</td>\n",
              "    </tr>\n",
              "    <tr>\n",
              "      <th>4</th>\n",
              "      <td>b'gAAAAABinOiXdoaNUzihOSbyY1tjWtd5EgMaXkkvH6SV...</td>\n",
              "      <td>M</td>\n",
              "      <td>N</td>\n",
              "      <td>Y</td>\n",
              "      <td>1</td>\n",
              "      <td>B</td>\n",
              "      <td>D</td>\n",
              "      <td>D</td>\n",
              "      <td>1</td>\n",
              "      <td>l</td>\n",
              "      <td>...</td>\n",
              "      <td>-9.261962</td>\n",
              "      <td>1.619210</td>\n",
              "      <td>3.737647</td>\n",
              "      <td>4.052003</td>\n",
              "      <td>1.637831</td>\n",
              "      <td>0</td>\n",
              "      <td>1</td>\n",
              "      <td>0.737560</td>\n",
              "      <td>1</td>\n",
              "      <td>0</td>\n",
              "    </tr>\n",
              "  </tbody>\n",
              "</table>\n",
              "<p>5 rows × 36 columns</p>\n",
              "</div>\n",
              "      <button class=\"colab-df-convert\" onclick=\"convertToInteractive('df-7343b125-6345-4b45-be53-eca1d7c58e67')\"\n",
              "              title=\"Convert this dataframe to an interactive table.\"\n",
              "              style=\"display:none;\">\n",
              "        \n",
              "  <svg xmlns=\"http://www.w3.org/2000/svg\" height=\"24px\"viewBox=\"0 0 24 24\"\n",
              "       width=\"24px\">\n",
              "    <path d=\"M0 0h24v24H0V0z\" fill=\"none\"/>\n",
              "    <path d=\"M18.56 5.44l.94 2.06.94-2.06 2.06-.94-2.06-.94-.94-2.06-.94 2.06-2.06.94zm-11 1L8.5 8.5l.94-2.06 2.06-.94-2.06-.94L8.5 2.5l-.94 2.06-2.06.94zm10 10l.94 2.06.94-2.06 2.06-.94-2.06-.94-.94-2.06-.94 2.06-2.06.94z\"/><path d=\"M17.41 7.96l-1.37-1.37c-.4-.4-.92-.59-1.43-.59-.52 0-1.04.2-1.43.59L10.3 9.45l-7.72 7.72c-.78.78-.78 2.05 0 2.83L4 21.41c.39.39.9.59 1.41.59.51 0 1.02-.2 1.41-.59l7.78-7.78 2.81-2.81c.8-.78.8-2.07 0-2.86zM5.41 20L4 18.59l7.72-7.72 1.47 1.35L5.41 20z\"/>\n",
              "  </svg>\n",
              "      </button>\n",
              "      \n",
              "  <style>\n",
              "    .colab-df-container {\n",
              "      display:flex;\n",
              "      flex-wrap:wrap;\n",
              "      gap: 12px;\n",
              "    }\n",
              "\n",
              "    .colab-df-convert {\n",
              "      background-color: #E8F0FE;\n",
              "      border: none;\n",
              "      border-radius: 50%;\n",
              "      cursor: pointer;\n",
              "      display: none;\n",
              "      fill: #1967D2;\n",
              "      height: 32px;\n",
              "      padding: 0 0 0 0;\n",
              "      width: 32px;\n",
              "    }\n",
              "\n",
              "    .colab-df-convert:hover {\n",
              "      background-color: #E2EBFA;\n",
              "      box-shadow: 0px 1px 2px rgba(60, 64, 67, 0.3), 0px 1px 3px 1px rgba(60, 64, 67, 0.15);\n",
              "      fill: #174EA6;\n",
              "    }\n",
              "\n",
              "    [theme=dark] .colab-df-convert {\n",
              "      background-color: #3B4455;\n",
              "      fill: #D2E3FC;\n",
              "    }\n",
              "\n",
              "    [theme=dark] .colab-df-convert:hover {\n",
              "      background-color: #434B5C;\n",
              "      box-shadow: 0px 1px 3px 1px rgba(0, 0, 0, 0.15);\n",
              "      filter: drop-shadow(0px 1px 2px rgba(0, 0, 0, 0.3));\n",
              "      fill: #FFFFFF;\n",
              "    }\n",
              "  </style>\n",
              "\n",
              "      <script>\n",
              "        const buttonEl =\n",
              "          document.querySelector('#df-7343b125-6345-4b45-be53-eca1d7c58e67 button.colab-df-convert');\n",
              "        buttonEl.style.display =\n",
              "          google.colab.kernel.accessAllowed ? 'block' : 'none';\n",
              "\n",
              "        async function convertToInteractive(key) {\n",
              "          const element = document.querySelector('#df-7343b125-6345-4b45-be53-eca1d7c58e67');\n",
              "          const dataTable =\n",
              "            await google.colab.kernel.invokeFunction('convertToInteractive',\n",
              "                                                     [key], {});\n",
              "          if (!dataTable) return;\n",
              "\n",
              "          const docLinkHtml = 'Like what you see? Visit the ' +\n",
              "            '<a target=\"_blank\" href=https://colab.research.google.com/notebooks/data_table.ipynb>data table notebook</a>'\n",
              "            + ' to learn more about interactive tables.';\n",
              "          element.innerHTML = '';\n",
              "          dataTable['output_type'] = 'display_data';\n",
              "          await google.colab.output.renderOutput(dataTable, element);\n",
              "          const docLink = document.createElement('div');\n",
              "          docLink.innerHTML = docLinkHtml;\n",
              "          element.appendChild(docLink);\n",
              "        }\n",
              "      </script>\n",
              "    </div>\n",
              "  </div>\n",
              "  "
            ]
          },
          "metadata": {},
          "execution_count": 1
        }
      ],
      "source": [
        "import pandas as pd\n",
        "import numpy as np\n",
        "import sklearn\n",
        "\n",
        "df = pd.read_csv('/content/sample_data/train.csv')\n",
        "df.head()\n"
      ]
    },
    {
      "cell_type": "markdown",
      "source": [
        "# **Handling null values**"
      ],
      "metadata": {
        "id": "8GY_YfkcMpTM"
      }
    },
    {
      "cell_type": "code",
      "source": [
        "df = df.replace(\" \", np.nan)"
      ],
      "metadata": {
        "id": "-g-736DmHTYj"
      },
      "execution_count": 2,
      "outputs": []
    },
    {
      "cell_type": "code",
      "source": [
        "df.isnull().sum()"
      ],
      "metadata": {
        "colab": {
          "base_uri": "https://localhost:8080/"
        },
        "id": "cBaC-dRsKVGS",
        "outputId": "751173bf-2799-47a0-c158-2bf78ad931a0"
      },
      "execution_count": 3,
      "outputs": [
        {
          "output_type": "execute_result",
          "data": {
            "text/plain": [
              "id            0\n",
              "gender        0\n",
              "s11           0\n",
              "s12           0\n",
              "s13           0\n",
              "s16           0\n",
              "s17           0\n",
              "s18           0\n",
              "s48           0\n",
              "s52           0\n",
              "s53        2570\n",
              "s54       25694\n",
              "s55       25116\n",
              "s56       28322\n",
              "s57       28322\n",
              "s58           0\n",
              "s59       28322\n",
              "s69           0\n",
              "s70           0\n",
              "s71           0\n",
              "n1            0\n",
              "n2            0\n",
              "n3            0\n",
              "n4            0\n",
              "n5            0\n",
              "n6            0\n",
              "n7            0\n",
              "n8            0\n",
              "n9            0\n",
              "n10           0\n",
              "n11           0\n",
              "n12           0\n",
              "n13           0\n",
              "n14           0\n",
              "n15           0\n",
              "label         0\n",
              "dtype: int64"
            ]
          },
          "metadata": {},
          "execution_count": 3
        }
      ]
    },
    {
      "cell_type": "code",
      "source": [
        "df = df.drop(['s53', 's54', 's55', 's56', 's57', 's59', 's69'], axis = 1)\n",
        "df.shape"
      ],
      "metadata": {
        "colab": {
          "base_uri": "https://localhost:8080/"
        },
        "id": "71XYfdu_KsBL",
        "outputId": "95f2a46b-fba5-4e52-a85d-ebd6c1f70681"
      },
      "execution_count": 4,
      "outputs": [
        {
          "output_type": "execute_result",
          "data": {
            "text/plain": [
              "(28322, 29)"
            ]
          },
          "metadata": {},
          "execution_count": 4
        }
      ]
    },
    {
      "cell_type": "code",
      "source": [
        "df[\"s52\"] = df[\"s52\"].replace(\"l\", 1)\n",
        "df[\"s52\"] = df[\"s52\"].replace(\"o\", 0)\n",
        "df[\"s52\"] = df[\"s52\"].replace(\"1\", 1)\n",
        "df[\"s52\"] = df[\"s52\"].replace(\"0\", 0)"
      ],
      "metadata": {
        "id": "U_xsI2k6ORVq"
      },
      "execution_count": 5,
      "outputs": []
    },
    {
      "cell_type": "code",
      "source": [
        "df.iloc[112]"
      ],
      "metadata": {
        "colab": {
          "base_uri": "https://localhost:8080/"
        },
        "id": "wrudnoRiPDya",
        "outputId": "901aa6a4-b672-40d2-e73e-5b08ab4276ed"
      },
      "execution_count": 6,
      "outputs": [
        {
          "output_type": "execute_result",
          "data": {
            "text/plain": [
              "id        b'gAAAAABinOiXKqKXjYJoWc9_eAyV8vAfuJx0dtGSg658...\n",
              "gender                                                    M\n",
              "s11                                                       Y\n",
              "s12                                                       Y\n",
              "s13                                                       1\n",
              "s16                                                       D\n",
              "s17                                                       D\n",
              "s18                                                       B\n",
              "s48                                                       0\n",
              "s52                                                       0\n",
              "s58                                                       B\n",
              "s70                                                   op: D\n",
              "s71                                                       b\n",
              "n1                                                 3.874432\n",
              "n2                                                  0.94412\n",
              "n3                                                        3\n",
              "n4                                                 8.133582\n",
              "n5                                               -33.013753\n",
              "n6                                                 0.016386\n",
              "n7                                                 -9.39351\n",
              "n8                                                 1.531354\n",
              "n9                                                  3.53434\n",
              "n10                                                3.938491\n",
              "n11                                                1.530937\n",
              "n12                                                       0\n",
              "n13                                                       0\n",
              "n14                                                0.781691\n",
              "n15                                                       6\n",
              "label                                                     0\n",
              "Name: 112, dtype: object"
            ]
          },
          "metadata": {},
          "execution_count": 6
        }
      ]
    },
    {
      "cell_type": "code",
      "source": [
        "df.head(10)"
      ],
      "metadata": {
        "colab": {
          "base_uri": "https://localhost:8080/",
          "height": 456
        },
        "id": "5AmRw_DLRkFY",
        "outputId": "be253694-8e97-4cbb-f4d5-08b7a1b74b14"
      },
      "execution_count": 7,
      "outputs": [
        {
          "output_type": "execute_result",
          "data": {
            "text/plain": [
              "                                                  id gender s11 s12  s13 s16  \\\n",
              "0  b'gAAAAABinOicS09vrmgh0_JyEHihI13ptO0rCyHP7l76...      M   Y   N    1   D   \n",
              "1  b'gAAAAABinOiWGC1WhR6WYP0DA5ssGv9rIekrWUwCdJ8F...      M   Y   Y    1   D   \n",
              "2  b'gAAAAABinOibTcOBFIVeA4nVF3FuFz_QX3ZlPPFc21gS...      M   Y   Y    1   D   \n",
              "3  b'gAAAAABinOig-g3-Q1ggjlMhfUSdn21Aj5yVVeVvXbis...      F   Y   Y    1   D   \n",
              "4  b'gAAAAABinOiXdoaNUzihOSbyY1tjWtd5EgMaXkkvH6SV...      M   N   Y    1   B   \n",
              "5  b'gAAAAABinOiWbgAxe8Uy9tboiJGZEYK7zcGy6fv8_5Ao...      M   Y   Y    1   D   \n",
              "6  b'gAAAAABinOiYFRgmHZu5sLaAYKtwJbRhPnjCYPVxQPNf...      M   Y   Y    1   B   \n",
              "7  b'gAAAAABinOiXQjg5rjPZsHSAQrJhP8u_21fwETW89EFN...      M   Y   Y    1   B   \n",
              "8  b'gAAAAABinOic9rpK09lv7Q2k7bMbzXsT0ZluA8SfT7x0...      F   Y   Y    1   D   \n",
              "9  b'gAAAAABinOiWr-5MKlXYJ9hkIMYLh2XNHJeYWIIpt94I...      M   Y   N    1   D   \n",
              "\n",
              "  s17 s18  s48  s52  ...        n7        n8         n9        n10       n11  \\\n",
              "0   D   B    0    1  ... -9.126056  1.732291   3.698504   4.804517  1.544484   \n",
              "1   D   B    1    1  ... -9.098287  1.505885   6.791357   6.110416  1.712354   \n",
              "2   D   B    0    1  ... -9.234894  1.503828   4.109685   3.953226  1.804260   \n",
              "3   D   B    0    1  ... -9.378025  1.485863   7.265876   4.559419  1.537645   \n",
              "4   D   D    1    1  ... -9.261962  1.619210   3.737647   4.052003  1.637831   \n",
              "5   C   B    1    1  ... -8.885964  1.845862  10.660651  11.704121  1.568647   \n",
              "6   D   B    1    1  ... -8.818020  1.535369   8.155031  11.555441  1.543350   \n",
              "7   C   B    0    1  ... -9.249317  1.811164   2.822841   6.590523  1.694829   \n",
              "8   D   B    0    1  ... -9.042350  1.510002  10.661686  11.276986  1.779480   \n",
              "9   D   B    0    1  ... -9.326015  1.383908   2.671842   3.940305  1.716165   \n",
              "\n",
              "   n12  n13       n14  n15  label  \n",
              "0    0    0  0.631220    5      0  \n",
              "1    0    0  0.392746    3      1  \n",
              "2    0    0  0.222537    2      0  \n",
              "3    0    0  0.154409    4      0  \n",
              "4    0    1  0.737560    1      0  \n",
              "5    0    0  0.687640    6      0  \n",
              "6    0    0  0.983840    5      1  \n",
              "7    0    0  0.777798    0      0  \n",
              "8    0    0  0.557019    0      0  \n",
              "9    0    0  0.212874    1      0  \n",
              "\n",
              "[10 rows x 29 columns]"
            ],
            "text/html": [
              "\n",
              "  <div id=\"df-368e1a40-772f-49c5-832e-73c034f355bf\">\n",
              "    <div class=\"colab-df-container\">\n",
              "      <div>\n",
              "<style scoped>\n",
              "    .dataframe tbody tr th:only-of-type {\n",
              "        vertical-align: middle;\n",
              "    }\n",
              "\n",
              "    .dataframe tbody tr th {\n",
              "        vertical-align: top;\n",
              "    }\n",
              "\n",
              "    .dataframe thead th {\n",
              "        text-align: right;\n",
              "    }\n",
              "</style>\n",
              "<table border=\"1\" class=\"dataframe\">\n",
              "  <thead>\n",
              "    <tr style=\"text-align: right;\">\n",
              "      <th></th>\n",
              "      <th>id</th>\n",
              "      <th>gender</th>\n",
              "      <th>s11</th>\n",
              "      <th>s12</th>\n",
              "      <th>s13</th>\n",
              "      <th>s16</th>\n",
              "      <th>s17</th>\n",
              "      <th>s18</th>\n",
              "      <th>s48</th>\n",
              "      <th>s52</th>\n",
              "      <th>...</th>\n",
              "      <th>n7</th>\n",
              "      <th>n8</th>\n",
              "      <th>n9</th>\n",
              "      <th>n10</th>\n",
              "      <th>n11</th>\n",
              "      <th>n12</th>\n",
              "      <th>n13</th>\n",
              "      <th>n14</th>\n",
              "      <th>n15</th>\n",
              "      <th>label</th>\n",
              "    </tr>\n",
              "  </thead>\n",
              "  <tbody>\n",
              "    <tr>\n",
              "      <th>0</th>\n",
              "      <td>b'gAAAAABinOicS09vrmgh0_JyEHihI13ptO0rCyHP7l76...</td>\n",
              "      <td>M</td>\n",
              "      <td>Y</td>\n",
              "      <td>N</td>\n",
              "      <td>1</td>\n",
              "      <td>D</td>\n",
              "      <td>D</td>\n",
              "      <td>B</td>\n",
              "      <td>0</td>\n",
              "      <td>1</td>\n",
              "      <td>...</td>\n",
              "      <td>-9.126056</td>\n",
              "      <td>1.732291</td>\n",
              "      <td>3.698504</td>\n",
              "      <td>4.804517</td>\n",
              "      <td>1.544484</td>\n",
              "      <td>0</td>\n",
              "      <td>0</td>\n",
              "      <td>0.631220</td>\n",
              "      <td>5</td>\n",
              "      <td>0</td>\n",
              "    </tr>\n",
              "    <tr>\n",
              "      <th>1</th>\n",
              "      <td>b'gAAAAABinOiWGC1WhR6WYP0DA5ssGv9rIekrWUwCdJ8F...</td>\n",
              "      <td>M</td>\n",
              "      <td>Y</td>\n",
              "      <td>Y</td>\n",
              "      <td>1</td>\n",
              "      <td>D</td>\n",
              "      <td>D</td>\n",
              "      <td>B</td>\n",
              "      <td>1</td>\n",
              "      <td>1</td>\n",
              "      <td>...</td>\n",
              "      <td>-9.098287</td>\n",
              "      <td>1.505885</td>\n",
              "      <td>6.791357</td>\n",
              "      <td>6.110416</td>\n",
              "      <td>1.712354</td>\n",
              "      <td>0</td>\n",
              "      <td>0</td>\n",
              "      <td>0.392746</td>\n",
              "      <td>3</td>\n",
              "      <td>1</td>\n",
              "    </tr>\n",
              "    <tr>\n",
              "      <th>2</th>\n",
              "      <td>b'gAAAAABinOibTcOBFIVeA4nVF3FuFz_QX3ZlPPFc21gS...</td>\n",
              "      <td>M</td>\n",
              "      <td>Y</td>\n",
              "      <td>Y</td>\n",
              "      <td>1</td>\n",
              "      <td>D</td>\n",
              "      <td>D</td>\n",
              "      <td>B</td>\n",
              "      <td>0</td>\n",
              "      <td>1</td>\n",
              "      <td>...</td>\n",
              "      <td>-9.234894</td>\n",
              "      <td>1.503828</td>\n",
              "      <td>4.109685</td>\n",
              "      <td>3.953226</td>\n",
              "      <td>1.804260</td>\n",
              "      <td>0</td>\n",
              "      <td>0</td>\n",
              "      <td>0.222537</td>\n",
              "      <td>2</td>\n",
              "      <td>0</td>\n",
              "    </tr>\n",
              "    <tr>\n",
              "      <th>3</th>\n",
              "      <td>b'gAAAAABinOig-g3-Q1ggjlMhfUSdn21Aj5yVVeVvXbis...</td>\n",
              "      <td>F</td>\n",
              "      <td>Y</td>\n",
              "      <td>Y</td>\n",
              "      <td>1</td>\n",
              "      <td>D</td>\n",
              "      <td>D</td>\n",
              "      <td>B</td>\n",
              "      <td>0</td>\n",
              "      <td>1</td>\n",
              "      <td>...</td>\n",
              "      <td>-9.378025</td>\n",
              "      <td>1.485863</td>\n",
              "      <td>7.265876</td>\n",
              "      <td>4.559419</td>\n",
              "      <td>1.537645</td>\n",
              "      <td>0</td>\n",
              "      <td>0</td>\n",
              "      <td>0.154409</td>\n",
              "      <td>4</td>\n",
              "      <td>0</td>\n",
              "    </tr>\n",
              "    <tr>\n",
              "      <th>4</th>\n",
              "      <td>b'gAAAAABinOiXdoaNUzihOSbyY1tjWtd5EgMaXkkvH6SV...</td>\n",
              "      <td>M</td>\n",
              "      <td>N</td>\n",
              "      <td>Y</td>\n",
              "      <td>1</td>\n",
              "      <td>B</td>\n",
              "      <td>D</td>\n",
              "      <td>D</td>\n",
              "      <td>1</td>\n",
              "      <td>1</td>\n",
              "      <td>...</td>\n",
              "      <td>-9.261962</td>\n",
              "      <td>1.619210</td>\n",
              "      <td>3.737647</td>\n",
              "      <td>4.052003</td>\n",
              "      <td>1.637831</td>\n",
              "      <td>0</td>\n",
              "      <td>1</td>\n",
              "      <td>0.737560</td>\n",
              "      <td>1</td>\n",
              "      <td>0</td>\n",
              "    </tr>\n",
              "    <tr>\n",
              "      <th>5</th>\n",
              "      <td>b'gAAAAABinOiWbgAxe8Uy9tboiJGZEYK7zcGy6fv8_5Ao...</td>\n",
              "      <td>M</td>\n",
              "      <td>Y</td>\n",
              "      <td>Y</td>\n",
              "      <td>1</td>\n",
              "      <td>D</td>\n",
              "      <td>C</td>\n",
              "      <td>B</td>\n",
              "      <td>1</td>\n",
              "      <td>1</td>\n",
              "      <td>...</td>\n",
              "      <td>-8.885964</td>\n",
              "      <td>1.845862</td>\n",
              "      <td>10.660651</td>\n",
              "      <td>11.704121</td>\n",
              "      <td>1.568647</td>\n",
              "      <td>0</td>\n",
              "      <td>0</td>\n",
              "      <td>0.687640</td>\n",
              "      <td>6</td>\n",
              "      <td>0</td>\n",
              "    </tr>\n",
              "    <tr>\n",
              "      <th>6</th>\n",
              "      <td>b'gAAAAABinOiYFRgmHZu5sLaAYKtwJbRhPnjCYPVxQPNf...</td>\n",
              "      <td>M</td>\n",
              "      <td>Y</td>\n",
              "      <td>Y</td>\n",
              "      <td>1</td>\n",
              "      <td>B</td>\n",
              "      <td>D</td>\n",
              "      <td>B</td>\n",
              "      <td>1</td>\n",
              "      <td>1</td>\n",
              "      <td>...</td>\n",
              "      <td>-8.818020</td>\n",
              "      <td>1.535369</td>\n",
              "      <td>8.155031</td>\n",
              "      <td>11.555441</td>\n",
              "      <td>1.543350</td>\n",
              "      <td>0</td>\n",
              "      <td>0</td>\n",
              "      <td>0.983840</td>\n",
              "      <td>5</td>\n",
              "      <td>1</td>\n",
              "    </tr>\n",
              "    <tr>\n",
              "      <th>7</th>\n",
              "      <td>b'gAAAAABinOiXQjg5rjPZsHSAQrJhP8u_21fwETW89EFN...</td>\n",
              "      <td>M</td>\n",
              "      <td>Y</td>\n",
              "      <td>Y</td>\n",
              "      <td>1</td>\n",
              "      <td>B</td>\n",
              "      <td>C</td>\n",
              "      <td>B</td>\n",
              "      <td>0</td>\n",
              "      <td>1</td>\n",
              "      <td>...</td>\n",
              "      <td>-9.249317</td>\n",
              "      <td>1.811164</td>\n",
              "      <td>2.822841</td>\n",
              "      <td>6.590523</td>\n",
              "      <td>1.694829</td>\n",
              "      <td>0</td>\n",
              "      <td>0</td>\n",
              "      <td>0.777798</td>\n",
              "      <td>0</td>\n",
              "      <td>0</td>\n",
              "    </tr>\n",
              "    <tr>\n",
              "      <th>8</th>\n",
              "      <td>b'gAAAAABinOic9rpK09lv7Q2k7bMbzXsT0ZluA8SfT7x0...</td>\n",
              "      <td>F</td>\n",
              "      <td>Y</td>\n",
              "      <td>Y</td>\n",
              "      <td>1</td>\n",
              "      <td>D</td>\n",
              "      <td>D</td>\n",
              "      <td>B</td>\n",
              "      <td>0</td>\n",
              "      <td>1</td>\n",
              "      <td>...</td>\n",
              "      <td>-9.042350</td>\n",
              "      <td>1.510002</td>\n",
              "      <td>10.661686</td>\n",
              "      <td>11.276986</td>\n",
              "      <td>1.779480</td>\n",
              "      <td>0</td>\n",
              "      <td>0</td>\n",
              "      <td>0.557019</td>\n",
              "      <td>0</td>\n",
              "      <td>0</td>\n",
              "    </tr>\n",
              "    <tr>\n",
              "      <th>9</th>\n",
              "      <td>b'gAAAAABinOiWr-5MKlXYJ9hkIMYLh2XNHJeYWIIpt94I...</td>\n",
              "      <td>M</td>\n",
              "      <td>Y</td>\n",
              "      <td>N</td>\n",
              "      <td>1</td>\n",
              "      <td>D</td>\n",
              "      <td>D</td>\n",
              "      <td>B</td>\n",
              "      <td>0</td>\n",
              "      <td>1</td>\n",
              "      <td>...</td>\n",
              "      <td>-9.326015</td>\n",
              "      <td>1.383908</td>\n",
              "      <td>2.671842</td>\n",
              "      <td>3.940305</td>\n",
              "      <td>1.716165</td>\n",
              "      <td>0</td>\n",
              "      <td>0</td>\n",
              "      <td>0.212874</td>\n",
              "      <td>1</td>\n",
              "      <td>0</td>\n",
              "    </tr>\n",
              "  </tbody>\n",
              "</table>\n",
              "<p>10 rows × 29 columns</p>\n",
              "</div>\n",
              "      <button class=\"colab-df-convert\" onclick=\"convertToInteractive('df-368e1a40-772f-49c5-832e-73c034f355bf')\"\n",
              "              title=\"Convert this dataframe to an interactive table.\"\n",
              "              style=\"display:none;\">\n",
              "        \n",
              "  <svg xmlns=\"http://www.w3.org/2000/svg\" height=\"24px\"viewBox=\"0 0 24 24\"\n",
              "       width=\"24px\">\n",
              "    <path d=\"M0 0h24v24H0V0z\" fill=\"none\"/>\n",
              "    <path d=\"M18.56 5.44l.94 2.06.94-2.06 2.06-.94-2.06-.94-.94-2.06-.94 2.06-2.06.94zm-11 1L8.5 8.5l.94-2.06 2.06-.94-2.06-.94L8.5 2.5l-.94 2.06-2.06.94zm10 10l.94 2.06.94-2.06 2.06-.94-2.06-.94-.94-2.06-.94 2.06-2.06.94z\"/><path d=\"M17.41 7.96l-1.37-1.37c-.4-.4-.92-.59-1.43-.59-.52 0-1.04.2-1.43.59L10.3 9.45l-7.72 7.72c-.78.78-.78 2.05 0 2.83L4 21.41c.39.39.9.59 1.41.59.51 0 1.02-.2 1.41-.59l7.78-7.78 2.81-2.81c.8-.78.8-2.07 0-2.86zM5.41 20L4 18.59l7.72-7.72 1.47 1.35L5.41 20z\"/>\n",
              "  </svg>\n",
              "      </button>\n",
              "      \n",
              "  <style>\n",
              "    .colab-df-container {\n",
              "      display:flex;\n",
              "      flex-wrap:wrap;\n",
              "      gap: 12px;\n",
              "    }\n",
              "\n",
              "    .colab-df-convert {\n",
              "      background-color: #E8F0FE;\n",
              "      border: none;\n",
              "      border-radius: 50%;\n",
              "      cursor: pointer;\n",
              "      display: none;\n",
              "      fill: #1967D2;\n",
              "      height: 32px;\n",
              "      padding: 0 0 0 0;\n",
              "      width: 32px;\n",
              "    }\n",
              "\n",
              "    .colab-df-convert:hover {\n",
              "      background-color: #E2EBFA;\n",
              "      box-shadow: 0px 1px 2px rgba(60, 64, 67, 0.3), 0px 1px 3px 1px rgba(60, 64, 67, 0.15);\n",
              "      fill: #174EA6;\n",
              "    }\n",
              "\n",
              "    [theme=dark] .colab-df-convert {\n",
              "      background-color: #3B4455;\n",
              "      fill: #D2E3FC;\n",
              "    }\n",
              "\n",
              "    [theme=dark] .colab-df-convert:hover {\n",
              "      background-color: #434B5C;\n",
              "      box-shadow: 0px 1px 3px 1px rgba(0, 0, 0, 0.15);\n",
              "      filter: drop-shadow(0px 1px 2px rgba(0, 0, 0, 0.3));\n",
              "      fill: #FFFFFF;\n",
              "    }\n",
              "  </style>\n",
              "\n",
              "      <script>\n",
              "        const buttonEl =\n",
              "          document.querySelector('#df-368e1a40-772f-49c5-832e-73c034f355bf button.colab-df-convert');\n",
              "        buttonEl.style.display =\n",
              "          google.colab.kernel.accessAllowed ? 'block' : 'none';\n",
              "\n",
              "        async function convertToInteractive(key) {\n",
              "          const element = document.querySelector('#df-368e1a40-772f-49c5-832e-73c034f355bf');\n",
              "          const dataTable =\n",
              "            await google.colab.kernel.invokeFunction('convertToInteractive',\n",
              "                                                     [key], {});\n",
              "          if (!dataTable) return;\n",
              "\n",
              "          const docLinkHtml = 'Like what you see? Visit the ' +\n",
              "            '<a target=\"_blank\" href=https://colab.research.google.com/notebooks/data_table.ipynb>data table notebook</a>'\n",
              "            + ' to learn more about interactive tables.';\n",
              "          element.innerHTML = '';\n",
              "          dataTable['output_type'] = 'display_data';\n",
              "          await google.colab.output.renderOutput(dataTable, element);\n",
              "          const docLink = document.createElement('div');\n",
              "          docLink.innerHTML = docLinkHtml;\n",
              "          element.appendChild(docLink);\n",
              "        }\n",
              "      </script>\n",
              "    </div>\n",
              "  </div>\n",
              "  "
            ]
          },
          "metadata": {},
          "execution_count": 7
        }
      ]
    },
    {
      "cell_type": "markdown",
      "source": [
        "# **Encoding Object type values**"
      ],
      "metadata": {
        "id": "DIRPwDJxM9yi"
      }
    },
    {
      "cell_type": "code",
      "source": [
        "df.dtypes"
      ],
      "metadata": {
        "colab": {
          "base_uri": "https://localhost:8080/"
        },
        "id": "1PG_CRMgN414",
        "outputId": "3c2ab402-8ddc-4534-89f4-5e9a1270e385"
      },
      "execution_count": 8,
      "outputs": [
        {
          "output_type": "execute_result",
          "data": {
            "text/plain": [
              "id         object\n",
              "gender     object\n",
              "s11        object\n",
              "s12        object\n",
              "s13         int64\n",
              "s16        object\n",
              "s17        object\n",
              "s18        object\n",
              "s48         int64\n",
              "s52         int64\n",
              "s58        object\n",
              "s70        object\n",
              "s71        object\n",
              "n1        float64\n",
              "n2        float64\n",
              "n3          int64\n",
              "n4        float64\n",
              "n5        float64\n",
              "n6        float64\n",
              "n7        float64\n",
              "n8        float64\n",
              "n9        float64\n",
              "n10       float64\n",
              "n11       float64\n",
              "n12         int64\n",
              "n13         int64\n",
              "n14       float64\n",
              "n15         int64\n",
              "label       int64\n",
              "dtype: object"
            ]
          },
          "metadata": {},
          "execution_count": 8
        }
      ]
    },
    {
      "cell_type": "code",
      "source": [
        "df[\"gender\"].unique()"
      ],
      "metadata": {
        "colab": {
          "base_uri": "https://localhost:8080/"
        },
        "id": "XuX88yKcAxv-",
        "outputId": "45da34a9-a555-4acb-e63e-e41bb816b320"
      },
      "execution_count": 9,
      "outputs": [
        {
          "output_type": "execute_result",
          "data": {
            "text/plain": [
              "array(['M', 'F'], dtype=object)"
            ]
          },
          "metadata": {},
          "execution_count": 9
        }
      ]
    },
    {
      "cell_type": "code",
      "source": [
        "from sklearn.preprocessing import LabelEncoder\n",
        "\n",
        "enc = LabelEncoder()\n",
        "df['gender'] = enc.fit_transform(df['gender'])\n",
        "\n",
        "print(df[['gender']].head())"
      ],
      "metadata": {
        "colab": {
          "base_uri": "https://localhost:8080/"
        },
        "id": "wlbawDKNJK65",
        "outputId": "1c5aae01-c75b-46e6-e622-c8d5c8ad64f1"
      },
      "execution_count": 10,
      "outputs": [
        {
          "output_type": "stream",
          "name": "stdout",
          "text": [
            "   gender\n",
            "0       1\n",
            "1       1\n",
            "2       1\n",
            "3       0\n",
            "4       1\n"
          ]
        }
      ]
    },
    {
      "cell_type": "code",
      "source": [
        "df[\"s11\"].unique()"
      ],
      "metadata": {
        "colab": {
          "base_uri": "https://localhost:8080/"
        },
        "id": "BO3frS46BE0b",
        "outputId": "eb19b647-43ff-4496-cb0f-99cc49964c2c"
      },
      "execution_count": 11,
      "outputs": [
        {
          "output_type": "execute_result",
          "data": {
            "text/plain": [
              "array(['Y', 'N'], dtype=object)"
            ]
          },
          "metadata": {},
          "execution_count": 11
        }
      ]
    },
    {
      "cell_type": "code",
      "source": [
        "from sklearn.preprocessing import LabelEncoder\n",
        "\n",
        "enc = LabelEncoder()\n",
        "df['s11'] = enc.fit_transform(df['s11'])\n",
        "\n",
        "print(df[['s11']].head())"
      ],
      "metadata": {
        "colab": {
          "base_uri": "https://localhost:8080/"
        },
        "id": "d6Qj-TzTKA9e",
        "outputId": "79dfeffd-b26e-4e95-91a7-b8c0443abd88"
      },
      "execution_count": 12,
      "outputs": [
        {
          "output_type": "stream",
          "name": "stdout",
          "text": [
            "   s11\n",
            "0    1\n",
            "1    1\n",
            "2    1\n",
            "3    1\n",
            "4    0\n"
          ]
        }
      ]
    },
    {
      "cell_type": "code",
      "source": [
        "df[\"s12\"].unique()"
      ],
      "metadata": {
        "colab": {
          "base_uri": "https://localhost:8080/"
        },
        "id": "I-gjOdt0BOMV",
        "outputId": "242f8f2e-7c1c-494f-dc61-d93afc7b7ebb"
      },
      "execution_count": 13,
      "outputs": [
        {
          "output_type": "execute_result",
          "data": {
            "text/plain": [
              "array(['N', 'Y'], dtype=object)"
            ]
          },
          "metadata": {},
          "execution_count": 13
        }
      ]
    },
    {
      "cell_type": "code",
      "source": [
        "from sklearn.preprocessing import LabelEncoder\n",
        "\n",
        "enc = LabelEncoder()\n",
        "df['s12'] = enc.fit_transform(df['s12'])\n",
        "\n",
        "print(df[['s12']].head())"
      ],
      "metadata": {
        "colab": {
          "base_uri": "https://localhost:8080/"
        },
        "id": "MWOFoMFNKNhL",
        "outputId": "0401e89b-26df-4ade-e929-ea86552d66e4"
      },
      "execution_count": 14,
      "outputs": [
        {
          "output_type": "stream",
          "name": "stdout",
          "text": [
            "   s12\n",
            "0    0\n",
            "1    1\n",
            "2    1\n",
            "3    1\n",
            "4    1\n"
          ]
        }
      ]
    },
    {
      "cell_type": "code",
      "source": [
        "df[\"s16\"].unique()"
      ],
      "metadata": {
        "colab": {
          "base_uri": "https://localhost:8080/"
        },
        "id": "GDw3pErOBRyv",
        "outputId": "c36d7c60-fb96-442f-89e5-ebf53e0e37e4"
      },
      "execution_count": 15,
      "outputs": [
        {
          "output_type": "execute_result",
          "data": {
            "text/plain": [
              "array(['D', 'B', 'C', 'A'], dtype=object)"
            ]
          },
          "metadata": {},
          "execution_count": 15
        }
      ]
    },
    {
      "cell_type": "code",
      "source": [
        "df['s16'] = df['s16'].map({'A':0, 'B':1, 'C':2, 'D':3}) \n",
        "print(df[['s16']].head())"
      ],
      "metadata": {
        "colab": {
          "base_uri": "https://localhost:8080/"
        },
        "id": "PrqT-KwrKS5Y",
        "outputId": "9e439b20-450e-4bdb-8965-f2f89088468a"
      },
      "execution_count": 16,
      "outputs": [
        {
          "output_type": "stream",
          "name": "stdout",
          "text": [
            "   s16\n",
            "0    3\n",
            "1    3\n",
            "2    3\n",
            "3    3\n",
            "4    1\n"
          ]
        }
      ]
    },
    {
      "cell_type": "code",
      "source": [
        "df[\"s17\"].unique()"
      ],
      "metadata": {
        "colab": {
          "base_uri": "https://localhost:8080/"
        },
        "id": "8ZV0pFoABsfl",
        "outputId": "0da41d58-ce16-4005-a01a-62f483e20a16"
      },
      "execution_count": 17,
      "outputs": [
        {
          "output_type": "execute_result",
          "data": {
            "text/plain": [
              "array(['D', 'C', 'B', 'A'], dtype=object)"
            ]
          },
          "metadata": {},
          "execution_count": 17
        }
      ]
    },
    {
      "cell_type": "code",
      "source": [
        "df['s17'] = df['s17'].map({'A':0, 'B':1, 'C':2, 'D':3}) \n",
        "print(df[['s17']].head())"
      ],
      "metadata": {
        "colab": {
          "base_uri": "https://localhost:8080/"
        },
        "id": "6R_SmQ5YKsaA",
        "outputId": "2718a30b-a23e-4d17-8549-9f9a790610b2"
      },
      "execution_count": 18,
      "outputs": [
        {
          "output_type": "stream",
          "name": "stdout",
          "text": [
            "   s17\n",
            "0    3\n",
            "1    3\n",
            "2    3\n",
            "3    3\n",
            "4    3\n"
          ]
        }
      ]
    },
    {
      "cell_type": "code",
      "source": [
        "df[\"s18\"].unique()"
      ],
      "metadata": {
        "colab": {
          "base_uri": "https://localhost:8080/"
        },
        "id": "PY0buWjdBweG",
        "outputId": "cb5d10f4-857e-4e8a-f8b4-c7216b1ebdab"
      },
      "execution_count": 19,
      "outputs": [
        {
          "output_type": "execute_result",
          "data": {
            "text/plain": [
              "array(['B', 'D', 'C', 'A'], dtype=object)"
            ]
          },
          "metadata": {},
          "execution_count": 19
        }
      ]
    },
    {
      "cell_type": "code",
      "source": [
        "df['s18'] = df['s18'].map({'A':0, 'B':1, 'C':2, 'D':3}) \n",
        "print(df[['s18']].head())"
      ],
      "metadata": {
        "colab": {
          "base_uri": "https://localhost:8080/"
        },
        "id": "gDkALNSjK36S",
        "outputId": "8f7c5fc1-9cd1-4f5b-c23e-7fba885d47e9"
      },
      "execution_count": 20,
      "outputs": [
        {
          "output_type": "stream",
          "name": "stdout",
          "text": [
            "   s18\n",
            "0    1\n",
            "1    1\n",
            "2    1\n",
            "3    1\n",
            "4    3\n"
          ]
        }
      ]
    },
    {
      "cell_type": "code",
      "source": [
        "df[\"s58\"].unique()"
      ],
      "metadata": {
        "colab": {
          "base_uri": "https://localhost:8080/"
        },
        "id": "8w4cd6LVB9jv",
        "outputId": "0c191dc7-28b1-403a-d669-0a86986385dd"
      },
      "execution_count": 21,
      "outputs": [
        {
          "output_type": "execute_result",
          "data": {
            "text/plain": [
              "array(['B', 'A'], dtype=object)"
            ]
          },
          "metadata": {},
          "execution_count": 21
        }
      ]
    },
    {
      "cell_type": "code",
      "source": [
        "df['s58'] = df['s58'].map({'A':0, 'B':1}) \n",
        "print(df[['s58']].head())"
      ],
      "metadata": {
        "colab": {
          "base_uri": "https://localhost:8080/"
        },
        "id": "GAsX7u3tLLNL",
        "outputId": "9217127d-f91e-44a0-acbe-ffd50805856c"
      },
      "execution_count": 22,
      "outputs": [
        {
          "output_type": "stream",
          "name": "stdout",
          "text": [
            "   s58\n",
            "0    1\n",
            "1    1\n",
            "2    1\n",
            "3    1\n",
            "4    1\n"
          ]
        }
      ]
    },
    {
      "cell_type": "code",
      "source": [
        "df[\"s70\"].unique()"
      ],
      "metadata": {
        "colab": {
          "base_uri": "https://localhost:8080/"
        },
        "id": "oRRoSpBBJESi",
        "outputId": "7a65b6f8-a855-41b9-97a6-6966b27387da"
      },
      "execution_count": 23,
      "outputs": [
        {
          "output_type": "execute_result",
          "data": {
            "text/plain": [
              "array(['op: D', 'op: C', 'op: B', 'op: A'], dtype=object)"
            ]
          },
          "metadata": {},
          "execution_count": 23
        }
      ]
    },
    {
      "cell_type": "code",
      "source": [
        "df['s70'] = df['s70'].map({'op: A':0, 'op: B':1, 'op: C':2, 'op: D':3}) \n",
        "print(df[['s70']].head())"
      ],
      "metadata": {
        "colab": {
          "base_uri": "https://localhost:8080/"
        },
        "id": "m8HxOq4ULg17",
        "outputId": "2cbe7013-579f-479f-8d5f-c097e492728b"
      },
      "execution_count": 24,
      "outputs": [
        {
          "output_type": "stream",
          "name": "stdout",
          "text": [
            "   s70\n",
            "0    3\n",
            "1    3\n",
            "2    3\n",
            "3    3\n",
            "4    3\n"
          ]
        }
      ]
    },
    {
      "cell_type": "code",
      "source": [
        "df[\"s71\"].unique()"
      ],
      "metadata": {
        "colab": {
          "base_uri": "https://localhost:8080/"
        },
        "id": "WoPTU5VQL0wZ",
        "outputId": "8a9a921e-882a-4677-daff-d19d8db22468"
      },
      "execution_count": 25,
      "outputs": [
        {
          "output_type": "execute_result",
          "data": {
            "text/plain": [
              "array(['b', 'd', 'c', 'a'], dtype=object)"
            ]
          },
          "metadata": {},
          "execution_count": 25
        }
      ]
    },
    {
      "cell_type": "code",
      "source": [
        "df['s71'] = df['s71'].map({'a':0, 'b':1, 'c':2, 'd':3}) \n",
        "print(df[['s71']].head())"
      ],
      "metadata": {
        "colab": {
          "base_uri": "https://localhost:8080/"
        },
        "id": "6LX8cXEcMAJf",
        "outputId": "37ab1339-b4ff-437c-a060-88f10eea4681"
      },
      "execution_count": 26,
      "outputs": [
        {
          "output_type": "stream",
          "name": "stdout",
          "text": [
            "   s71\n",
            "0    1\n",
            "1    1\n",
            "2    1\n",
            "3    1\n",
            "4    3\n"
          ]
        }
      ]
    },
    {
      "cell_type": "code",
      "source": [
        "df.info()"
      ],
      "metadata": {
        "colab": {
          "base_uri": "https://localhost:8080/"
        },
        "id": "FaAwZAEjMaO2",
        "outputId": "29b4d05f-e9a5-4e6c-b19b-54a836c90bd3"
      },
      "execution_count": 27,
      "outputs": [
        {
          "output_type": "stream",
          "name": "stdout",
          "text": [
            "<class 'pandas.core.frame.DataFrame'>\n",
            "RangeIndex: 28322 entries, 0 to 28321\n",
            "Data columns (total 29 columns):\n",
            " #   Column  Non-Null Count  Dtype  \n",
            "---  ------  --------------  -----  \n",
            " 0   id      28322 non-null  object \n",
            " 1   gender  28322 non-null  int64  \n",
            " 2   s11     28322 non-null  int64  \n",
            " 3   s12     28322 non-null  int64  \n",
            " 4   s13     28322 non-null  int64  \n",
            " 5   s16     28322 non-null  int64  \n",
            " 6   s17     28322 non-null  int64  \n",
            " 7   s18     28322 non-null  int64  \n",
            " 8   s48     28322 non-null  int64  \n",
            " 9   s52     28322 non-null  int64  \n",
            " 10  s58     28322 non-null  int64  \n",
            " 11  s70     28322 non-null  int64  \n",
            " 12  s71     28322 non-null  int64  \n",
            " 13  n1      28322 non-null  float64\n",
            " 14  n2      28322 non-null  float64\n",
            " 15  n3      28322 non-null  int64  \n",
            " 16  n4      28322 non-null  float64\n",
            " 17  n5      28322 non-null  float64\n",
            " 18  n6      28322 non-null  float64\n",
            " 19  n7      28322 non-null  float64\n",
            " 20  n8      28322 non-null  float64\n",
            " 21  n9      28322 non-null  float64\n",
            " 22  n10     28322 non-null  float64\n",
            " 23  n11     28322 non-null  float64\n",
            " 24  n12     28322 non-null  int64  \n",
            " 25  n13     28322 non-null  int64  \n",
            " 26  n14     28322 non-null  float64\n",
            " 27  n15     28322 non-null  int64  \n",
            " 28  label   28322 non-null  int64  \n",
            "dtypes: float64(11), int64(17), object(1)\n",
            "memory usage: 6.3+ MB\n"
          ]
        }
      ]
    },
    {
      "cell_type": "markdown",
      "source": [
        "# **Correlation**"
      ],
      "metadata": {
        "id": "m7OLUrEnNJgS"
      }
    },
    {
      "cell_type": "code",
      "source": [
        "sample_df = df.drop(columns = \"label\")\n",
        "sample_df = pd.DataFrame(sample_df)\n",
        "df_corr = sample_df.corr().abs()\n",
        "df_corr"
      ],
      "metadata": {
        "colab": {
          "base_uri": "https://localhost:8080/",
          "height": 989
        },
        "id": "e-08NVkkNUOs",
        "outputId": "f7bdf68e-ea23-4df1-e51c-f84fd6032c13"
      },
      "execution_count": 28,
      "outputs": [
        {
          "output_type": "execute_result",
          "data": {
            "text/plain": [
              "          gender       s11       s12       s13       s16       s17       s18  \\\n",
              "gender  1.000000  0.175986  0.008275  0.071908  0.276221  0.091490  0.166208   \n",
              "s11     0.175986  1.000000  0.122604  0.152894  0.312280  0.024321  0.378104   \n",
              "s12     0.008275  0.122604  1.000000  0.030485  0.114807  0.020279  0.083345   \n",
              "s13     0.071908  0.152894  0.030485  1.000000  0.175418  0.070349  0.235607   \n",
              "s16     0.276221  0.312280  0.114807  0.175418  1.000000  0.228227  0.435997   \n",
              "s17     0.091490  0.024321  0.020279  0.070349  0.228227  1.000000  0.128551   \n",
              "s18     0.166208  0.378104  0.083345  0.235607  0.435997  0.128551  1.000000   \n",
              "s48     0.229131  0.227235  0.111740  0.107237  0.279743  0.126755  0.177686   \n",
              "s52     0.015093  0.048722  0.022399  0.022049  0.007695  0.001650  0.053767   \n",
              "s58     0.001367  0.000146  0.007549  0.000727  0.004679  0.004773  0.004686   \n",
              "s70     0.091490  0.024321  0.020279  0.070349  0.228227  1.000000  0.128551   \n",
              "s71     0.166208  0.378104  0.083345  0.235607  0.435997  0.128551  1.000000   \n",
              "n1      0.020535  0.094626  0.131443  0.059313  0.070994  0.082597  0.029425   \n",
              "n2      0.032440  0.097933  0.156240  0.059919  0.048108  0.046661  0.017818   \n",
              "n3      0.115219  0.147243  0.009444  0.055319  0.169067  0.025092  0.175021   \n",
              "n4      0.138501  0.087226  0.037484  0.012209  0.134194  0.013709  0.060376   \n",
              "n5      0.075954  0.011796  0.062526  0.090193  0.094217  0.107033  0.126351   \n",
              "n6      0.001879  0.002684  0.046553  0.094815  0.134311  0.077112  0.150570   \n",
              "n7      0.048931  0.107899  0.104793  0.044618  0.085090  0.006095  0.116548   \n",
              "n8      0.098827  0.069586  0.018563  0.064532  0.124558  0.081026  0.052599   \n",
              "n9      0.073935  0.008499  0.048050  0.029764  0.028635  0.035924  0.006537   \n",
              "n10     0.017454  0.059767  0.148752  0.035100  0.083651  0.012660  0.105692   \n",
              "n11     0.011116  0.001172  0.000980  0.014183  0.004407  0.002339  0.010269   \n",
              "n12     0.014391  0.004395  0.003955  0.002139  0.006248  0.008923  0.014171   \n",
              "n13     0.001771  0.008851  0.008978  0.006929  0.006489  0.002034  0.008232   \n",
              "n14     0.011282  0.008947  0.001485  0.000816  0.004451  0.008191  0.001344   \n",
              "n15     0.005253  0.004480  0.003488  0.003288  0.004337  0.002795  0.001508   \n",
              "\n",
              "             s48       s52       s58  ...        n6        n7        n8  \\\n",
              "gender  0.229131  0.015093  0.001367  ...  0.001879  0.048931  0.098827   \n",
              "s11     0.227235  0.048722  0.000146  ...  0.002684  0.107899  0.069586   \n",
              "s12     0.111740  0.022399  0.007549  ...  0.046553  0.104793  0.018563   \n",
              "s13     0.107237  0.022049  0.000727  ...  0.094815  0.044618  0.064532   \n",
              "s16     0.279743  0.007695  0.004679  ...  0.134311  0.085090  0.124558   \n",
              "s17     0.126755  0.001650  0.004773  ...  0.077112  0.006095  0.081026   \n",
              "s18     0.177686  0.053767  0.004686  ...  0.150570  0.116548  0.052599   \n",
              "s48     1.000000  0.016405  0.002680  ...  0.116692  0.026812  0.010002   \n",
              "s52     0.016405  1.000000  0.009627  ...  0.042912  0.101875  0.054252   \n",
              "s58     0.002680  0.009627  1.000000  ...  0.007552  0.007867  0.002210   \n",
              "s70     0.126755  0.001650  0.004773  ...  0.077112  0.006095  0.081026   \n",
              "s71     0.177686  0.053767  0.004686  ...  0.150570  0.116548  0.052599   \n",
              "n1      0.031168  0.101140  0.001527  ...  0.081274  0.602224  0.662666   \n",
              "n2      0.033586  0.087078  0.000769  ...  0.026397  0.624320  0.648843   \n",
              "n3      0.051126  0.074042  0.008489  ...  0.425036  0.640050  0.220419   \n",
              "n4      0.088057  0.034539  0.005268  ...  0.088265  0.223498  0.058810   \n",
              "n5      0.007119  0.024811  0.000274  ...  0.426532  0.093723  0.105349   \n",
              "n6      0.116692  0.042912  0.007552  ...  1.000000  0.379512  0.077969   \n",
              "n7      0.026812  0.101875  0.007867  ...  0.379512  1.000000  0.500690   \n",
              "n8      0.010002  0.054252  0.002210  ...  0.077969  0.500690  1.000000   \n",
              "n9      0.092835  0.064231  0.005528  ...  0.145519  0.450283  0.289764   \n",
              "n10     0.055772  0.081445  0.005295  ...  0.455716  0.781825  0.400302   \n",
              "n11     0.000968  0.003483  0.003889  ...  0.001123  0.002946  0.002946   \n",
              "n12     0.003127  0.008700  0.004456  ...  0.002986  0.001473  0.003862   \n",
              "n13     0.003117  0.013325  0.004879  ...  0.001449  0.000887  0.005679   \n",
              "n14     0.005858  0.002834  0.001413  ...  0.007769  0.003437  0.001934   \n",
              "n15     0.008473  0.004463  0.003263  ...  0.005207  0.007161  0.001868   \n",
              "\n",
              "              n9       n10       n11       n12       n13       n14       n15  \n",
              "gender  0.073935  0.017454  0.011116  0.014391  0.001771  0.011282  0.005253  \n",
              "s11     0.008499  0.059767  0.001172  0.004395  0.008851  0.008947  0.004480  \n",
              "s12     0.048050  0.148752  0.000980  0.003955  0.008978  0.001485  0.003488  \n",
              "s13     0.029764  0.035100  0.014183  0.002139  0.006929  0.000816  0.003288  \n",
              "s16     0.028635  0.083651  0.004407  0.006248  0.006489  0.004451  0.004337  \n",
              "s17     0.035924  0.012660  0.002339  0.008923  0.002034  0.008191  0.002795  \n",
              "s18     0.006537  0.105692  0.010269  0.014171  0.008232  0.001344  0.001508  \n",
              "s48     0.092835  0.055772  0.000968  0.003127  0.003117  0.005858  0.008473  \n",
              "s52     0.064231  0.081445  0.003483  0.008700  0.013325  0.002834  0.004463  \n",
              "s58     0.005528  0.005295  0.003889  0.004456  0.004879  0.001413  0.003263  \n",
              "s70     0.035924  0.012660  0.002339  0.008923  0.002034  0.008191  0.002795  \n",
              "s71     0.006537  0.105692  0.010269  0.014171  0.008232  0.001344  0.001508  \n",
              "n1      0.393686  0.490394  0.004650  0.003443  0.010118  0.002616  0.006759  \n",
              "n2      0.401184  0.525765  0.006222  0.001333  0.014115  0.002258  0.006553  \n",
              "n3      0.395780  0.604656  0.000420  0.003415  0.002704  0.006510  0.005514  \n",
              "n4      0.168241  0.204752  0.010558  0.000877  0.007066  0.000621  0.000099  \n",
              "n5      0.124063  0.160737  0.005097  0.008544  0.001276  0.014498  0.000468  \n",
              "n6      0.145519  0.455716  0.001123  0.002986  0.001449  0.007769  0.005207  \n",
              "n7      0.450283  0.781825  0.002946  0.001473  0.000887  0.003437  0.007161  \n",
              "n8      0.289764  0.400302  0.002946  0.003862  0.005679  0.001934  0.001868  \n",
              "n9      1.000000  0.457136  0.012473  0.007773  0.008989  0.008778  0.001764  \n",
              "n10     0.457136  1.000000  0.000092  0.007479  0.009095  0.004541  0.007330  \n",
              "n11     0.012473  0.000092  1.000000  0.008861  0.005727  0.002026  0.001145  \n",
              "n12     0.007773  0.007479  0.008861  1.000000  0.012025  0.000911  0.000948  \n",
              "n13     0.008989  0.009095  0.005727  0.012025  1.000000  0.002274  0.003618  \n",
              "n14     0.008778  0.004541  0.002026  0.000911  0.002274  1.000000  0.007707  \n",
              "n15     0.001764  0.007330  0.001145  0.000948  0.003618  0.007707  1.000000  \n",
              "\n",
              "[27 rows x 27 columns]"
            ],
            "text/html": [
              "\n",
              "  <div id=\"df-7fdd99d7-a4c6-429f-b24b-1c927af7e714\">\n",
              "    <div class=\"colab-df-container\">\n",
              "      <div>\n",
              "<style scoped>\n",
              "    .dataframe tbody tr th:only-of-type {\n",
              "        vertical-align: middle;\n",
              "    }\n",
              "\n",
              "    .dataframe tbody tr th {\n",
              "        vertical-align: top;\n",
              "    }\n",
              "\n",
              "    .dataframe thead th {\n",
              "        text-align: right;\n",
              "    }\n",
              "</style>\n",
              "<table border=\"1\" class=\"dataframe\">\n",
              "  <thead>\n",
              "    <tr style=\"text-align: right;\">\n",
              "      <th></th>\n",
              "      <th>gender</th>\n",
              "      <th>s11</th>\n",
              "      <th>s12</th>\n",
              "      <th>s13</th>\n",
              "      <th>s16</th>\n",
              "      <th>s17</th>\n",
              "      <th>s18</th>\n",
              "      <th>s48</th>\n",
              "      <th>s52</th>\n",
              "      <th>s58</th>\n",
              "      <th>...</th>\n",
              "      <th>n6</th>\n",
              "      <th>n7</th>\n",
              "      <th>n8</th>\n",
              "      <th>n9</th>\n",
              "      <th>n10</th>\n",
              "      <th>n11</th>\n",
              "      <th>n12</th>\n",
              "      <th>n13</th>\n",
              "      <th>n14</th>\n",
              "      <th>n15</th>\n",
              "    </tr>\n",
              "  </thead>\n",
              "  <tbody>\n",
              "    <tr>\n",
              "      <th>gender</th>\n",
              "      <td>1.000000</td>\n",
              "      <td>0.175986</td>\n",
              "      <td>0.008275</td>\n",
              "      <td>0.071908</td>\n",
              "      <td>0.276221</td>\n",
              "      <td>0.091490</td>\n",
              "      <td>0.166208</td>\n",
              "      <td>0.229131</td>\n",
              "      <td>0.015093</td>\n",
              "      <td>0.001367</td>\n",
              "      <td>...</td>\n",
              "      <td>0.001879</td>\n",
              "      <td>0.048931</td>\n",
              "      <td>0.098827</td>\n",
              "      <td>0.073935</td>\n",
              "      <td>0.017454</td>\n",
              "      <td>0.011116</td>\n",
              "      <td>0.014391</td>\n",
              "      <td>0.001771</td>\n",
              "      <td>0.011282</td>\n",
              "      <td>0.005253</td>\n",
              "    </tr>\n",
              "    <tr>\n",
              "      <th>s11</th>\n",
              "      <td>0.175986</td>\n",
              "      <td>1.000000</td>\n",
              "      <td>0.122604</td>\n",
              "      <td>0.152894</td>\n",
              "      <td>0.312280</td>\n",
              "      <td>0.024321</td>\n",
              "      <td>0.378104</td>\n",
              "      <td>0.227235</td>\n",
              "      <td>0.048722</td>\n",
              "      <td>0.000146</td>\n",
              "      <td>...</td>\n",
              "      <td>0.002684</td>\n",
              "      <td>0.107899</td>\n",
              "      <td>0.069586</td>\n",
              "      <td>0.008499</td>\n",
              "      <td>0.059767</td>\n",
              "      <td>0.001172</td>\n",
              "      <td>0.004395</td>\n",
              "      <td>0.008851</td>\n",
              "      <td>0.008947</td>\n",
              "      <td>0.004480</td>\n",
              "    </tr>\n",
              "    <tr>\n",
              "      <th>s12</th>\n",
              "      <td>0.008275</td>\n",
              "      <td>0.122604</td>\n",
              "      <td>1.000000</td>\n",
              "      <td>0.030485</td>\n",
              "      <td>0.114807</td>\n",
              "      <td>0.020279</td>\n",
              "      <td>0.083345</td>\n",
              "      <td>0.111740</td>\n",
              "      <td>0.022399</td>\n",
              "      <td>0.007549</td>\n",
              "      <td>...</td>\n",
              "      <td>0.046553</td>\n",
              "      <td>0.104793</td>\n",
              "      <td>0.018563</td>\n",
              "      <td>0.048050</td>\n",
              "      <td>0.148752</td>\n",
              "      <td>0.000980</td>\n",
              "      <td>0.003955</td>\n",
              "      <td>0.008978</td>\n",
              "      <td>0.001485</td>\n",
              "      <td>0.003488</td>\n",
              "    </tr>\n",
              "    <tr>\n",
              "      <th>s13</th>\n",
              "      <td>0.071908</td>\n",
              "      <td>0.152894</td>\n",
              "      <td>0.030485</td>\n",
              "      <td>1.000000</td>\n",
              "      <td>0.175418</td>\n",
              "      <td>0.070349</td>\n",
              "      <td>0.235607</td>\n",
              "      <td>0.107237</td>\n",
              "      <td>0.022049</td>\n",
              "      <td>0.000727</td>\n",
              "      <td>...</td>\n",
              "      <td>0.094815</td>\n",
              "      <td>0.044618</td>\n",
              "      <td>0.064532</td>\n",
              "      <td>0.029764</td>\n",
              "      <td>0.035100</td>\n",
              "      <td>0.014183</td>\n",
              "      <td>0.002139</td>\n",
              "      <td>0.006929</td>\n",
              "      <td>0.000816</td>\n",
              "      <td>0.003288</td>\n",
              "    </tr>\n",
              "    <tr>\n",
              "      <th>s16</th>\n",
              "      <td>0.276221</td>\n",
              "      <td>0.312280</td>\n",
              "      <td>0.114807</td>\n",
              "      <td>0.175418</td>\n",
              "      <td>1.000000</td>\n",
              "      <td>0.228227</td>\n",
              "      <td>0.435997</td>\n",
              "      <td>0.279743</td>\n",
              "      <td>0.007695</td>\n",
              "      <td>0.004679</td>\n",
              "      <td>...</td>\n",
              "      <td>0.134311</td>\n",
              "      <td>0.085090</td>\n",
              "      <td>0.124558</td>\n",
              "      <td>0.028635</td>\n",
              "      <td>0.083651</td>\n",
              "      <td>0.004407</td>\n",
              "      <td>0.006248</td>\n",
              "      <td>0.006489</td>\n",
              "      <td>0.004451</td>\n",
              "      <td>0.004337</td>\n",
              "    </tr>\n",
              "    <tr>\n",
              "      <th>s17</th>\n",
              "      <td>0.091490</td>\n",
              "      <td>0.024321</td>\n",
              "      <td>0.020279</td>\n",
              "      <td>0.070349</td>\n",
              "      <td>0.228227</td>\n",
              "      <td>1.000000</td>\n",
              "      <td>0.128551</td>\n",
              "      <td>0.126755</td>\n",
              "      <td>0.001650</td>\n",
              "      <td>0.004773</td>\n",
              "      <td>...</td>\n",
              "      <td>0.077112</td>\n",
              "      <td>0.006095</td>\n",
              "      <td>0.081026</td>\n",
              "      <td>0.035924</td>\n",
              "      <td>0.012660</td>\n",
              "      <td>0.002339</td>\n",
              "      <td>0.008923</td>\n",
              "      <td>0.002034</td>\n",
              "      <td>0.008191</td>\n",
              "      <td>0.002795</td>\n",
              "    </tr>\n",
              "    <tr>\n",
              "      <th>s18</th>\n",
              "      <td>0.166208</td>\n",
              "      <td>0.378104</td>\n",
              "      <td>0.083345</td>\n",
              "      <td>0.235607</td>\n",
              "      <td>0.435997</td>\n",
              "      <td>0.128551</td>\n",
              "      <td>1.000000</td>\n",
              "      <td>0.177686</td>\n",
              "      <td>0.053767</td>\n",
              "      <td>0.004686</td>\n",
              "      <td>...</td>\n",
              "      <td>0.150570</td>\n",
              "      <td>0.116548</td>\n",
              "      <td>0.052599</td>\n",
              "      <td>0.006537</td>\n",
              "      <td>0.105692</td>\n",
              "      <td>0.010269</td>\n",
              "      <td>0.014171</td>\n",
              "      <td>0.008232</td>\n",
              "      <td>0.001344</td>\n",
              "      <td>0.001508</td>\n",
              "    </tr>\n",
              "    <tr>\n",
              "      <th>s48</th>\n",
              "      <td>0.229131</td>\n",
              "      <td>0.227235</td>\n",
              "      <td>0.111740</td>\n",
              "      <td>0.107237</td>\n",
              "      <td>0.279743</td>\n",
              "      <td>0.126755</td>\n",
              "      <td>0.177686</td>\n",
              "      <td>1.000000</td>\n",
              "      <td>0.016405</td>\n",
              "      <td>0.002680</td>\n",
              "      <td>...</td>\n",
              "      <td>0.116692</td>\n",
              "      <td>0.026812</td>\n",
              "      <td>0.010002</td>\n",
              "      <td>0.092835</td>\n",
              "      <td>0.055772</td>\n",
              "      <td>0.000968</td>\n",
              "      <td>0.003127</td>\n",
              "      <td>0.003117</td>\n",
              "      <td>0.005858</td>\n",
              "      <td>0.008473</td>\n",
              "    </tr>\n",
              "    <tr>\n",
              "      <th>s52</th>\n",
              "      <td>0.015093</td>\n",
              "      <td>0.048722</td>\n",
              "      <td>0.022399</td>\n",
              "      <td>0.022049</td>\n",
              "      <td>0.007695</td>\n",
              "      <td>0.001650</td>\n",
              "      <td>0.053767</td>\n",
              "      <td>0.016405</td>\n",
              "      <td>1.000000</td>\n",
              "      <td>0.009627</td>\n",
              "      <td>...</td>\n",
              "      <td>0.042912</td>\n",
              "      <td>0.101875</td>\n",
              "      <td>0.054252</td>\n",
              "      <td>0.064231</td>\n",
              "      <td>0.081445</td>\n",
              "      <td>0.003483</td>\n",
              "      <td>0.008700</td>\n",
              "      <td>0.013325</td>\n",
              "      <td>0.002834</td>\n",
              "      <td>0.004463</td>\n",
              "    </tr>\n",
              "    <tr>\n",
              "      <th>s58</th>\n",
              "      <td>0.001367</td>\n",
              "      <td>0.000146</td>\n",
              "      <td>0.007549</td>\n",
              "      <td>0.000727</td>\n",
              "      <td>0.004679</td>\n",
              "      <td>0.004773</td>\n",
              "      <td>0.004686</td>\n",
              "      <td>0.002680</td>\n",
              "      <td>0.009627</td>\n",
              "      <td>1.000000</td>\n",
              "      <td>...</td>\n",
              "      <td>0.007552</td>\n",
              "      <td>0.007867</td>\n",
              "      <td>0.002210</td>\n",
              "      <td>0.005528</td>\n",
              "      <td>0.005295</td>\n",
              "      <td>0.003889</td>\n",
              "      <td>0.004456</td>\n",
              "      <td>0.004879</td>\n",
              "      <td>0.001413</td>\n",
              "      <td>0.003263</td>\n",
              "    </tr>\n",
              "    <tr>\n",
              "      <th>s70</th>\n",
              "      <td>0.091490</td>\n",
              "      <td>0.024321</td>\n",
              "      <td>0.020279</td>\n",
              "      <td>0.070349</td>\n",
              "      <td>0.228227</td>\n",
              "      <td>1.000000</td>\n",
              "      <td>0.128551</td>\n",
              "      <td>0.126755</td>\n",
              "      <td>0.001650</td>\n",
              "      <td>0.004773</td>\n",
              "      <td>...</td>\n",
              "      <td>0.077112</td>\n",
              "      <td>0.006095</td>\n",
              "      <td>0.081026</td>\n",
              "      <td>0.035924</td>\n",
              "      <td>0.012660</td>\n",
              "      <td>0.002339</td>\n",
              "      <td>0.008923</td>\n",
              "      <td>0.002034</td>\n",
              "      <td>0.008191</td>\n",
              "      <td>0.002795</td>\n",
              "    </tr>\n",
              "    <tr>\n",
              "      <th>s71</th>\n",
              "      <td>0.166208</td>\n",
              "      <td>0.378104</td>\n",
              "      <td>0.083345</td>\n",
              "      <td>0.235607</td>\n",
              "      <td>0.435997</td>\n",
              "      <td>0.128551</td>\n",
              "      <td>1.000000</td>\n",
              "      <td>0.177686</td>\n",
              "      <td>0.053767</td>\n",
              "      <td>0.004686</td>\n",
              "      <td>...</td>\n",
              "      <td>0.150570</td>\n",
              "      <td>0.116548</td>\n",
              "      <td>0.052599</td>\n",
              "      <td>0.006537</td>\n",
              "      <td>0.105692</td>\n",
              "      <td>0.010269</td>\n",
              "      <td>0.014171</td>\n",
              "      <td>0.008232</td>\n",
              "      <td>0.001344</td>\n",
              "      <td>0.001508</td>\n",
              "    </tr>\n",
              "    <tr>\n",
              "      <th>n1</th>\n",
              "      <td>0.020535</td>\n",
              "      <td>0.094626</td>\n",
              "      <td>0.131443</td>\n",
              "      <td>0.059313</td>\n",
              "      <td>0.070994</td>\n",
              "      <td>0.082597</td>\n",
              "      <td>0.029425</td>\n",
              "      <td>0.031168</td>\n",
              "      <td>0.101140</td>\n",
              "      <td>0.001527</td>\n",
              "      <td>...</td>\n",
              "      <td>0.081274</td>\n",
              "      <td>0.602224</td>\n",
              "      <td>0.662666</td>\n",
              "      <td>0.393686</td>\n",
              "      <td>0.490394</td>\n",
              "      <td>0.004650</td>\n",
              "      <td>0.003443</td>\n",
              "      <td>0.010118</td>\n",
              "      <td>0.002616</td>\n",
              "      <td>0.006759</td>\n",
              "    </tr>\n",
              "    <tr>\n",
              "      <th>n2</th>\n",
              "      <td>0.032440</td>\n",
              "      <td>0.097933</td>\n",
              "      <td>0.156240</td>\n",
              "      <td>0.059919</td>\n",
              "      <td>0.048108</td>\n",
              "      <td>0.046661</td>\n",
              "      <td>0.017818</td>\n",
              "      <td>0.033586</td>\n",
              "      <td>0.087078</td>\n",
              "      <td>0.000769</td>\n",
              "      <td>...</td>\n",
              "      <td>0.026397</td>\n",
              "      <td>0.624320</td>\n",
              "      <td>0.648843</td>\n",
              "      <td>0.401184</td>\n",
              "      <td>0.525765</td>\n",
              "      <td>0.006222</td>\n",
              "      <td>0.001333</td>\n",
              "      <td>0.014115</td>\n",
              "      <td>0.002258</td>\n",
              "      <td>0.006553</td>\n",
              "    </tr>\n",
              "    <tr>\n",
              "      <th>n3</th>\n",
              "      <td>0.115219</td>\n",
              "      <td>0.147243</td>\n",
              "      <td>0.009444</td>\n",
              "      <td>0.055319</td>\n",
              "      <td>0.169067</td>\n",
              "      <td>0.025092</td>\n",
              "      <td>0.175021</td>\n",
              "      <td>0.051126</td>\n",
              "      <td>0.074042</td>\n",
              "      <td>0.008489</td>\n",
              "      <td>...</td>\n",
              "      <td>0.425036</td>\n",
              "      <td>0.640050</td>\n",
              "      <td>0.220419</td>\n",
              "      <td>0.395780</td>\n",
              "      <td>0.604656</td>\n",
              "      <td>0.000420</td>\n",
              "      <td>0.003415</td>\n",
              "      <td>0.002704</td>\n",
              "      <td>0.006510</td>\n",
              "      <td>0.005514</td>\n",
              "    </tr>\n",
              "    <tr>\n",
              "      <th>n4</th>\n",
              "      <td>0.138501</td>\n",
              "      <td>0.087226</td>\n",
              "      <td>0.037484</td>\n",
              "      <td>0.012209</td>\n",
              "      <td>0.134194</td>\n",
              "      <td>0.013709</td>\n",
              "      <td>0.060376</td>\n",
              "      <td>0.088057</td>\n",
              "      <td>0.034539</td>\n",
              "      <td>0.005268</td>\n",
              "      <td>...</td>\n",
              "      <td>0.088265</td>\n",
              "      <td>0.223498</td>\n",
              "      <td>0.058810</td>\n",
              "      <td>0.168241</td>\n",
              "      <td>0.204752</td>\n",
              "      <td>0.010558</td>\n",
              "      <td>0.000877</td>\n",
              "      <td>0.007066</td>\n",
              "      <td>0.000621</td>\n",
              "      <td>0.000099</td>\n",
              "    </tr>\n",
              "    <tr>\n",
              "      <th>n5</th>\n",
              "      <td>0.075954</td>\n",
              "      <td>0.011796</td>\n",
              "      <td>0.062526</td>\n",
              "      <td>0.090193</td>\n",
              "      <td>0.094217</td>\n",
              "      <td>0.107033</td>\n",
              "      <td>0.126351</td>\n",
              "      <td>0.007119</td>\n",
              "      <td>0.024811</td>\n",
              "      <td>0.000274</td>\n",
              "      <td>...</td>\n",
              "      <td>0.426532</td>\n",
              "      <td>0.093723</td>\n",
              "      <td>0.105349</td>\n",
              "      <td>0.124063</td>\n",
              "      <td>0.160737</td>\n",
              "      <td>0.005097</td>\n",
              "      <td>0.008544</td>\n",
              "      <td>0.001276</td>\n",
              "      <td>0.014498</td>\n",
              "      <td>0.000468</td>\n",
              "    </tr>\n",
              "    <tr>\n",
              "      <th>n6</th>\n",
              "      <td>0.001879</td>\n",
              "      <td>0.002684</td>\n",
              "      <td>0.046553</td>\n",
              "      <td>0.094815</td>\n",
              "      <td>0.134311</td>\n",
              "      <td>0.077112</td>\n",
              "      <td>0.150570</td>\n",
              "      <td>0.116692</td>\n",
              "      <td>0.042912</td>\n",
              "      <td>0.007552</td>\n",
              "      <td>...</td>\n",
              "      <td>1.000000</td>\n",
              "      <td>0.379512</td>\n",
              "      <td>0.077969</td>\n",
              "      <td>0.145519</td>\n",
              "      <td>0.455716</td>\n",
              "      <td>0.001123</td>\n",
              "      <td>0.002986</td>\n",
              "      <td>0.001449</td>\n",
              "      <td>0.007769</td>\n",
              "      <td>0.005207</td>\n",
              "    </tr>\n",
              "    <tr>\n",
              "      <th>n7</th>\n",
              "      <td>0.048931</td>\n",
              "      <td>0.107899</td>\n",
              "      <td>0.104793</td>\n",
              "      <td>0.044618</td>\n",
              "      <td>0.085090</td>\n",
              "      <td>0.006095</td>\n",
              "      <td>0.116548</td>\n",
              "      <td>0.026812</td>\n",
              "      <td>0.101875</td>\n",
              "      <td>0.007867</td>\n",
              "      <td>...</td>\n",
              "      <td>0.379512</td>\n",
              "      <td>1.000000</td>\n",
              "      <td>0.500690</td>\n",
              "      <td>0.450283</td>\n",
              "      <td>0.781825</td>\n",
              "      <td>0.002946</td>\n",
              "      <td>0.001473</td>\n",
              "      <td>0.000887</td>\n",
              "      <td>0.003437</td>\n",
              "      <td>0.007161</td>\n",
              "    </tr>\n",
              "    <tr>\n",
              "      <th>n8</th>\n",
              "      <td>0.098827</td>\n",
              "      <td>0.069586</td>\n",
              "      <td>0.018563</td>\n",
              "      <td>0.064532</td>\n",
              "      <td>0.124558</td>\n",
              "      <td>0.081026</td>\n",
              "      <td>0.052599</td>\n",
              "      <td>0.010002</td>\n",
              "      <td>0.054252</td>\n",
              "      <td>0.002210</td>\n",
              "      <td>...</td>\n",
              "      <td>0.077969</td>\n",
              "      <td>0.500690</td>\n",
              "      <td>1.000000</td>\n",
              "      <td>0.289764</td>\n",
              "      <td>0.400302</td>\n",
              "      <td>0.002946</td>\n",
              "      <td>0.003862</td>\n",
              "      <td>0.005679</td>\n",
              "      <td>0.001934</td>\n",
              "      <td>0.001868</td>\n",
              "    </tr>\n",
              "    <tr>\n",
              "      <th>n9</th>\n",
              "      <td>0.073935</td>\n",
              "      <td>0.008499</td>\n",
              "      <td>0.048050</td>\n",
              "      <td>0.029764</td>\n",
              "      <td>0.028635</td>\n",
              "      <td>0.035924</td>\n",
              "      <td>0.006537</td>\n",
              "      <td>0.092835</td>\n",
              "      <td>0.064231</td>\n",
              "      <td>0.005528</td>\n",
              "      <td>...</td>\n",
              "      <td>0.145519</td>\n",
              "      <td>0.450283</td>\n",
              "      <td>0.289764</td>\n",
              "      <td>1.000000</td>\n",
              "      <td>0.457136</td>\n",
              "      <td>0.012473</td>\n",
              "      <td>0.007773</td>\n",
              "      <td>0.008989</td>\n",
              "      <td>0.008778</td>\n",
              "      <td>0.001764</td>\n",
              "    </tr>\n",
              "    <tr>\n",
              "      <th>n10</th>\n",
              "      <td>0.017454</td>\n",
              "      <td>0.059767</td>\n",
              "      <td>0.148752</td>\n",
              "      <td>0.035100</td>\n",
              "      <td>0.083651</td>\n",
              "      <td>0.012660</td>\n",
              "      <td>0.105692</td>\n",
              "      <td>0.055772</td>\n",
              "      <td>0.081445</td>\n",
              "      <td>0.005295</td>\n",
              "      <td>...</td>\n",
              "      <td>0.455716</td>\n",
              "      <td>0.781825</td>\n",
              "      <td>0.400302</td>\n",
              "      <td>0.457136</td>\n",
              "      <td>1.000000</td>\n",
              "      <td>0.000092</td>\n",
              "      <td>0.007479</td>\n",
              "      <td>0.009095</td>\n",
              "      <td>0.004541</td>\n",
              "      <td>0.007330</td>\n",
              "    </tr>\n",
              "    <tr>\n",
              "      <th>n11</th>\n",
              "      <td>0.011116</td>\n",
              "      <td>0.001172</td>\n",
              "      <td>0.000980</td>\n",
              "      <td>0.014183</td>\n",
              "      <td>0.004407</td>\n",
              "      <td>0.002339</td>\n",
              "      <td>0.010269</td>\n",
              "      <td>0.000968</td>\n",
              "      <td>0.003483</td>\n",
              "      <td>0.003889</td>\n",
              "      <td>...</td>\n",
              "      <td>0.001123</td>\n",
              "      <td>0.002946</td>\n",
              "      <td>0.002946</td>\n",
              "      <td>0.012473</td>\n",
              "      <td>0.000092</td>\n",
              "      <td>1.000000</td>\n",
              "      <td>0.008861</td>\n",
              "      <td>0.005727</td>\n",
              "      <td>0.002026</td>\n",
              "      <td>0.001145</td>\n",
              "    </tr>\n",
              "    <tr>\n",
              "      <th>n12</th>\n",
              "      <td>0.014391</td>\n",
              "      <td>0.004395</td>\n",
              "      <td>0.003955</td>\n",
              "      <td>0.002139</td>\n",
              "      <td>0.006248</td>\n",
              "      <td>0.008923</td>\n",
              "      <td>0.014171</td>\n",
              "      <td>0.003127</td>\n",
              "      <td>0.008700</td>\n",
              "      <td>0.004456</td>\n",
              "      <td>...</td>\n",
              "      <td>0.002986</td>\n",
              "      <td>0.001473</td>\n",
              "      <td>0.003862</td>\n",
              "      <td>0.007773</td>\n",
              "      <td>0.007479</td>\n",
              "      <td>0.008861</td>\n",
              "      <td>1.000000</td>\n",
              "      <td>0.012025</td>\n",
              "      <td>0.000911</td>\n",
              "      <td>0.000948</td>\n",
              "    </tr>\n",
              "    <tr>\n",
              "      <th>n13</th>\n",
              "      <td>0.001771</td>\n",
              "      <td>0.008851</td>\n",
              "      <td>0.008978</td>\n",
              "      <td>0.006929</td>\n",
              "      <td>0.006489</td>\n",
              "      <td>0.002034</td>\n",
              "      <td>0.008232</td>\n",
              "      <td>0.003117</td>\n",
              "      <td>0.013325</td>\n",
              "      <td>0.004879</td>\n",
              "      <td>...</td>\n",
              "      <td>0.001449</td>\n",
              "      <td>0.000887</td>\n",
              "      <td>0.005679</td>\n",
              "      <td>0.008989</td>\n",
              "      <td>0.009095</td>\n",
              "      <td>0.005727</td>\n",
              "      <td>0.012025</td>\n",
              "      <td>1.000000</td>\n",
              "      <td>0.002274</td>\n",
              "      <td>0.003618</td>\n",
              "    </tr>\n",
              "    <tr>\n",
              "      <th>n14</th>\n",
              "      <td>0.011282</td>\n",
              "      <td>0.008947</td>\n",
              "      <td>0.001485</td>\n",
              "      <td>0.000816</td>\n",
              "      <td>0.004451</td>\n",
              "      <td>0.008191</td>\n",
              "      <td>0.001344</td>\n",
              "      <td>0.005858</td>\n",
              "      <td>0.002834</td>\n",
              "      <td>0.001413</td>\n",
              "      <td>...</td>\n",
              "      <td>0.007769</td>\n",
              "      <td>0.003437</td>\n",
              "      <td>0.001934</td>\n",
              "      <td>0.008778</td>\n",
              "      <td>0.004541</td>\n",
              "      <td>0.002026</td>\n",
              "      <td>0.000911</td>\n",
              "      <td>0.002274</td>\n",
              "      <td>1.000000</td>\n",
              "      <td>0.007707</td>\n",
              "    </tr>\n",
              "    <tr>\n",
              "      <th>n15</th>\n",
              "      <td>0.005253</td>\n",
              "      <td>0.004480</td>\n",
              "      <td>0.003488</td>\n",
              "      <td>0.003288</td>\n",
              "      <td>0.004337</td>\n",
              "      <td>0.002795</td>\n",
              "      <td>0.001508</td>\n",
              "      <td>0.008473</td>\n",
              "      <td>0.004463</td>\n",
              "      <td>0.003263</td>\n",
              "      <td>...</td>\n",
              "      <td>0.005207</td>\n",
              "      <td>0.007161</td>\n",
              "      <td>0.001868</td>\n",
              "      <td>0.001764</td>\n",
              "      <td>0.007330</td>\n",
              "      <td>0.001145</td>\n",
              "      <td>0.000948</td>\n",
              "      <td>0.003618</td>\n",
              "      <td>0.007707</td>\n",
              "      <td>1.000000</td>\n",
              "    </tr>\n",
              "  </tbody>\n",
              "</table>\n",
              "<p>27 rows × 27 columns</p>\n",
              "</div>\n",
              "      <button class=\"colab-df-convert\" onclick=\"convertToInteractive('df-7fdd99d7-a4c6-429f-b24b-1c927af7e714')\"\n",
              "              title=\"Convert this dataframe to an interactive table.\"\n",
              "              style=\"display:none;\">\n",
              "        \n",
              "  <svg xmlns=\"http://www.w3.org/2000/svg\" height=\"24px\"viewBox=\"0 0 24 24\"\n",
              "       width=\"24px\">\n",
              "    <path d=\"M0 0h24v24H0V0z\" fill=\"none\"/>\n",
              "    <path d=\"M18.56 5.44l.94 2.06.94-2.06 2.06-.94-2.06-.94-.94-2.06-.94 2.06-2.06.94zm-11 1L8.5 8.5l.94-2.06 2.06-.94-2.06-.94L8.5 2.5l-.94 2.06-2.06.94zm10 10l.94 2.06.94-2.06 2.06-.94-2.06-.94-.94-2.06-.94 2.06-2.06.94z\"/><path d=\"M17.41 7.96l-1.37-1.37c-.4-.4-.92-.59-1.43-.59-.52 0-1.04.2-1.43.59L10.3 9.45l-7.72 7.72c-.78.78-.78 2.05 0 2.83L4 21.41c.39.39.9.59 1.41.59.51 0 1.02-.2 1.41-.59l7.78-7.78 2.81-2.81c.8-.78.8-2.07 0-2.86zM5.41 20L4 18.59l7.72-7.72 1.47 1.35L5.41 20z\"/>\n",
              "  </svg>\n",
              "      </button>\n",
              "      \n",
              "  <style>\n",
              "    .colab-df-container {\n",
              "      display:flex;\n",
              "      flex-wrap:wrap;\n",
              "      gap: 12px;\n",
              "    }\n",
              "\n",
              "    .colab-df-convert {\n",
              "      background-color: #E8F0FE;\n",
              "      border: none;\n",
              "      border-radius: 50%;\n",
              "      cursor: pointer;\n",
              "      display: none;\n",
              "      fill: #1967D2;\n",
              "      height: 32px;\n",
              "      padding: 0 0 0 0;\n",
              "      width: 32px;\n",
              "    }\n",
              "\n",
              "    .colab-df-convert:hover {\n",
              "      background-color: #E2EBFA;\n",
              "      box-shadow: 0px 1px 2px rgba(60, 64, 67, 0.3), 0px 1px 3px 1px rgba(60, 64, 67, 0.15);\n",
              "      fill: #174EA6;\n",
              "    }\n",
              "\n",
              "    [theme=dark] .colab-df-convert {\n",
              "      background-color: #3B4455;\n",
              "      fill: #D2E3FC;\n",
              "    }\n",
              "\n",
              "    [theme=dark] .colab-df-convert:hover {\n",
              "      background-color: #434B5C;\n",
              "      box-shadow: 0px 1px 3px 1px rgba(0, 0, 0, 0.15);\n",
              "      filter: drop-shadow(0px 1px 2px rgba(0, 0, 0, 0.3));\n",
              "      fill: #FFFFFF;\n",
              "    }\n",
              "  </style>\n",
              "\n",
              "      <script>\n",
              "        const buttonEl =\n",
              "          document.querySelector('#df-7fdd99d7-a4c6-429f-b24b-1c927af7e714 button.colab-df-convert');\n",
              "        buttonEl.style.display =\n",
              "          google.colab.kernel.accessAllowed ? 'block' : 'none';\n",
              "\n",
              "        async function convertToInteractive(key) {\n",
              "          const element = document.querySelector('#df-7fdd99d7-a4c6-429f-b24b-1c927af7e714');\n",
              "          const dataTable =\n",
              "            await google.colab.kernel.invokeFunction('convertToInteractive',\n",
              "                                                     [key], {});\n",
              "          if (!dataTable) return;\n",
              "\n",
              "          const docLinkHtml = 'Like what you see? Visit the ' +\n",
              "            '<a target=\"_blank\" href=https://colab.research.google.com/notebooks/data_table.ipynb>data table notebook</a>'\n",
              "            + ' to learn more about interactive tables.';\n",
              "          element.innerHTML = '';\n",
              "          dataTable['output_type'] = 'display_data';\n",
              "          await google.colab.output.renderOutput(dataTable, element);\n",
              "          const docLink = document.createElement('div');\n",
              "          docLink.innerHTML = docLinkHtml;\n",
              "          element.appendChild(docLink);\n",
              "        }\n",
              "      </script>\n",
              "    </div>\n",
              "  </div>\n",
              "  "
            ]
          },
          "metadata": {},
          "execution_count": 28
        }
      ]
    },
    {
      "cell_type": "code",
      "source": [
        "import seaborn as sns\n",
        "sns.heatmap(df_corr, cmap = 'YlGnBu')"
      ],
      "metadata": {
        "colab": {
          "base_uri": "https://localhost:8080/",
          "height": 312
        },
        "id": "cdCu1u-NQaMR",
        "outputId": "e9001a20-b45b-4c30-8421-b735d3c54c4d"
      },
      "execution_count": 29,
      "outputs": [
        {
          "output_type": "execute_result",
          "data": {
            "text/plain": [
              "<matplotlib.axes._subplots.AxesSubplot at 0x7f154d916090>"
            ]
          },
          "metadata": {},
          "execution_count": 29
        },
        {
          "output_type": "display_data",
          "data": {
            "text/plain": [
              "<Figure size 432x288 with 2 Axes>"
            ],
            "image/png": "[encoded data removed]"
          },
          "metadata": {
            "needs_background": "light"
          }
        }
      ]
    },
    {
      "cell_type": "code",
      "source": [
        "upper_tri = df_corr.where(np.triu(np.ones(df_corr.shape),k=1).astype(np.bool))\n",
        "print(upper_tri)"
      ],
      "metadata": {
        "colab": {
          "base_uri": "https://localhost:8080/"
        },
        "id": "yWRYtaoWWQ3f",
        "outputId": "bc99a20e-1526-433c-86fe-13f2855fbcce"
      },
      "execution_count": 30,
      "outputs": [
        {
          "output_type": "stream",
          "name": "stdout",
          "text": [
            "        gender       s11       s12       s13       s16       s17       s18  \\\n",
            "gender     NaN  0.175986  0.008275  0.071908  0.276221  0.091490  0.166208   \n",
            "s11        NaN       NaN  0.122604  0.152894  0.312280  0.024321  0.378104   \n",
            "s12        NaN       NaN       NaN  0.030485  0.114807  0.020279  0.083345   \n",
            "s13        NaN       NaN       NaN       NaN  0.175418  0.070349  0.235607   \n",
            "s16        NaN       NaN       NaN       NaN       NaN  0.228227  0.435997   \n",
            "s17        NaN       NaN       NaN       NaN       NaN       NaN  0.128551   \n",
            "s18        NaN       NaN       NaN       NaN       NaN       NaN       NaN   \n",
            "s48        NaN       NaN       NaN       NaN       NaN       NaN       NaN   \n",
            "s52        NaN       NaN       NaN       NaN       NaN       NaN       NaN   \n",
            "s58        NaN       NaN       NaN       NaN       NaN       NaN       NaN   \n",
            "s70        NaN       NaN       NaN       NaN       NaN       NaN       NaN   \n",
            "s71        NaN       NaN       NaN       NaN       NaN       NaN       NaN   \n",
            "n1         NaN       NaN       NaN       NaN       NaN       NaN       NaN   \n",
            "n2         NaN       NaN       NaN       NaN       NaN       NaN       NaN   \n",
            "n3         NaN       NaN       NaN       NaN       NaN       NaN       NaN   \n",
            "n4         NaN       NaN       NaN       NaN       NaN       NaN       NaN   \n",
            "n5         NaN       NaN       NaN       NaN       NaN       NaN       NaN   \n",
            "n6         NaN       NaN       NaN       NaN       NaN       NaN       NaN   \n",
            "n7         NaN       NaN       NaN       NaN       NaN       NaN       NaN   \n",
            "n8         NaN       NaN       NaN       NaN       NaN       NaN       NaN   \n",
            "n9         NaN       NaN       NaN       NaN       NaN       NaN       NaN   \n",
            "n10        NaN       NaN       NaN       NaN       NaN       NaN       NaN   \n",
            "n11        NaN       NaN       NaN       NaN       NaN       NaN       NaN   \n",
            "n12        NaN       NaN       NaN       NaN       NaN       NaN       NaN   \n",
            "n13        NaN       NaN       NaN       NaN       NaN       NaN       NaN   \n",
            "n14        NaN       NaN       NaN       NaN       NaN       NaN       NaN   \n",
            "n15        NaN       NaN       NaN       NaN       NaN       NaN       NaN   \n",
            "\n",
            "             s48       s52       s58  ...        n6        n7        n8  \\\n",
            "gender  0.229131  0.015093  0.001367  ...  0.001879  0.048931  0.098827   \n",
            "s11     0.227235  0.048722  0.000146  ...  0.002684  0.107899  0.069586   \n",
            "s12     0.111740  0.022399  0.007549  ...  0.046553  0.104793  0.018563   \n",
            "s13     0.107237  0.022049  0.000727  ...  0.094815  0.044618  0.064532   \n",
            "s16     0.279743  0.007695  0.004679  ...  0.134311  0.085090  0.124558   \n",
            "s17     0.126755  0.001650  0.004773  ...  0.077112  0.006095  0.081026   \n",
            "s18     0.177686  0.053767  0.004686  ...  0.150570  0.116548  0.052599   \n",
            "s48          NaN  0.016405  0.002680  ...  0.116692  0.026812  0.010002   \n",
            "s52          NaN       NaN  0.009627  ...  0.042912  0.101875  0.054252   \n",
            "s58          NaN       NaN       NaN  ...  0.007552  0.007867  0.002210   \n",
            "s70          NaN       NaN       NaN  ...  0.077112  0.006095  0.081026   \n",
            "s71          NaN       NaN       NaN  ...  0.150570  0.116548  0.052599   \n",
            "n1           NaN       NaN       NaN  ...  0.081274  0.602224  0.662666   \n",
            "n2           NaN       NaN       NaN  ...  0.026397  0.624320  0.648843   \n",
            "n3           NaN       NaN       NaN  ...  0.425036  0.640050  0.220419   \n",
            "n4           NaN       NaN       NaN  ...  0.088265  0.223498  0.058810   \n",
            "n5           NaN       NaN       NaN  ...  0.426532  0.093723  0.105349   \n",
            "n6           NaN       NaN       NaN  ...       NaN  0.379512  0.077969   \n",
            "n7           NaN       NaN       NaN  ...       NaN       NaN  0.500690   \n",
            "n8           NaN       NaN       NaN  ...       NaN       NaN       NaN   \n",
            "n9           NaN       NaN       NaN  ...       NaN       NaN       NaN   \n",
            "n10          NaN       NaN       NaN  ...       NaN       NaN       NaN   \n",
            "n11          NaN       NaN       NaN  ...       NaN       NaN       NaN   \n",
            "n12          NaN       NaN       NaN  ...       NaN       NaN       NaN   \n",
            "n13          NaN       NaN       NaN  ...       NaN       NaN       NaN   \n",
            "n14          NaN       NaN       NaN  ...       NaN       NaN       NaN   \n",
            "n15          NaN       NaN       NaN  ...       NaN       NaN       NaN   \n",
            "\n",
            "              n9       n10       n11       n12       n13       n14       n15  \n",
            "gender  0.073935  0.017454  0.011116  0.014391  0.001771  0.011282  0.005253  \n",
            "s11     0.008499  0.059767  0.001172  0.004395  0.008851  0.008947  0.004480  \n",
            "s12     0.048050  0.148752  0.000980  0.003955  0.008978  0.001485  0.003488  \n",
            "s13     0.029764  0.035100  0.014183  0.002139  0.006929  0.000816  0.003288  \n",
            "s16     0.028635  0.083651  0.004407  0.006248  0.006489  0.004451  0.004337  \n",
            "s17     0.035924  0.012660  0.002339  0.008923  0.002034  0.008191  0.002795  \n",
            "s18     0.006537  0.105692  0.010269  0.014171  0.008232  0.001344  0.001508  \n",
            "s48     0.092835  0.055772  0.000968  0.003127  0.003117  0.005858  0.008473  \n",
            "s52     0.064231  0.081445  0.003483  0.008700  0.013325  0.002834  0.004463  \n",
            "s58     0.005528  0.005295  0.003889  0.004456  0.004879  0.001413  0.003263  \n",
            "s70     0.035924  0.012660  0.002339  0.008923  0.002034  0.008191  0.002795  \n",
            "s71     0.006537  0.105692  0.010269  0.014171  0.008232  0.001344  0.001508  \n",
            "n1      0.393686  0.490394  0.004650  0.003443  0.010118  0.002616  0.006759  \n",
            "n2      0.401184  0.525765  0.006222  0.001333  0.014115  0.002258  0.006553  \n",
            "n3      0.395780  0.604656  0.000420  0.003415  0.002704  0.006510  0.005514  \n",
            "n4      0.168241  0.204752  0.010558  0.000877  0.007066  0.000621  0.000099  \n",
            "n5      0.124063  0.160737  0.005097  0.008544  0.001276  0.014498  0.000468  \n",
            "n6      0.145519  0.455716  0.001123  0.002986  0.001449  0.007769  0.005207  \n",
            "n7      0.450283  0.781825  0.002946  0.001473  0.000887  0.003437  0.007161  \n",
            "n8      0.289764  0.400302  0.002946  0.003862  0.005679  0.001934  0.001868  \n",
            "n9           NaN  0.457136  0.012473  0.007773  0.008989  0.008778  0.001764  \n",
            "n10          NaN       NaN  0.000092  0.007479  0.009095  0.004541  0.007330  \n",
            "n11          NaN       NaN       NaN  0.008861  0.005727  0.002026  0.001145  \n",
            "n12          NaN       NaN       NaN       NaN  0.012025  0.000911  0.000948  \n",
            "n13          NaN       NaN       NaN       NaN       NaN  0.002274  0.003618  \n",
            "n14          NaN       NaN       NaN       NaN       NaN       NaN  0.007707  \n",
            "n15          NaN       NaN       NaN       NaN       NaN       NaN       NaN  \n",
            "\n",
            "[27 rows x 27 columns]\n"
          ]
        },
        {
          "output_type": "stream",
          "name": "stderr",
          "text": [
            "/usr/local/lib/python3.7/dist-packages/ipykernel_launcher.py:1: DeprecationWarning: `np.bool` is a deprecated alias for the builtin `bool`. To silence this warning, use `bool` by itself. Doing this will not modify any behavior and is safe. If you specifically wanted the numpy scalar type, use `np.bool_` here.\n",
            "Deprecated in NumPy 1.20; for more details and guidance: https://numpy.org/devdocs/release/1.20.0-notes.html#deprecations\n",
            "  \"\"\"Entry point for launching an IPython kernel.\n"
          ]
        }
      ]
    },
    {
      "cell_type": "code",
      "source": [
        "to_drop = [column for column in upper_tri.columns if any(upper_tri[column] > 0.95)]\n",
        "print(to_drop)"
      ],
      "metadata": {
        "colab": {
          "base_uri": "https://localhost:8080/"
        },
        "id": "mi10OBxLWbR7",
        "outputId": "7a056d4f-7c97-40da-89e6-75e8af04ffd6"
      },
      "execution_count": 31,
      "outputs": [
        {
          "output_type": "stream",
          "name": "stdout",
          "text": [
            "['s70', 's71']\n"
          ]
        }
      ]
    },
    {
      "cell_type": "code",
      "source": [
        "df = df.drop(to_drop, axis=1)\n",
        "# sample_df.head()"
      ],
      "metadata": {
        "id": "acBToMIsWuil"
      },
      "execution_count": 32,
      "outputs": []
    },
    {
      "cell_type": "markdown",
      "source": [
        "# **ML Algorithm**"
      ],
      "metadata": {
        "id": "A_F3YAP1RH2z"
      }
    },
    {
      "cell_type": "code",
      "source": [
        "from sklearn.model_selection import train_test_split\n",
        "y = df['label']\n",
        "x = df.drop(columns = ['label', 'id'])\n",
        "\n",
        "x_train, x_test, y_train, y_test = train_test_split(x, y, stratify = y, test_size = 0.25, random_state=42)"
      ],
      "metadata": {
        "id": "8uFqZDhEUjA6"
      },
      "execution_count": 33,
      "outputs": []
    },
    {
      "cell_type": "code",
      "source": [
        "# from sklearn.preprocessing import MinMaxScaler\n",
        "\n",
        "# scaler = MinMaxScaler()\n",
        "\n",
        "# scaler.fit(x_train)"
      ],
      "metadata": {
        "id": "9PH7HYntdY4J"
      },
      "execution_count": null,
      "outputs": []
    },
    {
      "cell_type": "code",
      "source": [
        "# X_train_scaled = scaler.transform(x_train)"
      ],
      "metadata": {
        "id": "5-EGJUdIdmph"
      },
      "execution_count": null,
      "outputs": []
    },
    {
      "cell_type": "markdown",
      "source": [
        "# **Decision Tree**"
      ],
      "metadata": {
        "id": "kb7NPYsxhQDx"
      }
    },
    {
      "cell_type": "code",
      "source": [
        "from sklearn.tree import DecisionTreeClassifier\n",
        "from sklearn.metrics import accuracy_score\n",
        "clf = DecisionTreeClassifier(criterion='entropy',random_state=1)\n",
        "clf.fit(x_train,y_train)\n",
        "y_pred = clf.predict(x_test)\n",
        "score=accuracy_score(y_pred,y_test)\n",
        "print(score)"
      ],
      "metadata": {
        "colab": {
          "base_uri": "https://localhost:8080/"
        },
        "id": "cVhq4iw8YOk6",
        "outputId": "c735d43f-8419-432f-dc71-b3d37603699c"
      },
      "execution_count": 34,
      "outputs": [
        {
          "output_type": "stream",
          "name": "stdout",
          "text": [
            "0.8110436379042508\n"
          ]
        }
      ]
    },
    {
      "cell_type": "markdown",
      "source": [
        "# **random forest**"
      ],
      "metadata": {
        "id": "_gvrVi6reMnS"
      }
    },
    {
      "cell_type": "code",
      "source": [
        "from sklearn import ensemble\n",
        "rf_classifer = ensemble.RandomForestClassifier(n_estimators=100)\n",
        "rf_classifer.fit(x_train, y_train)\n",
        "y_pred = rf_classifer.predict(x_test)\n",
        "score=accuracy_score(y_pred,y_test)\n",
        "print(score)"
      ],
      "metadata": {
        "colab": {
          "base_uri": "https://localhost:8080/"
        },
        "id": "ZwizfzuxeLOb",
        "outputId": "5c05aa31-7dc0-4965-b4da-4f959ddc0e29"
      },
      "execution_count": 36,
      "outputs": [
        {
          "output_type": "stream",
          "name": "stdout",
          "text": [
            "0.8736054229628584\n"
          ]
        }
      ]
    },
    {
      "cell_type": "markdown",
      "source": [
        "# **Naive Bayes**"
      ],
      "metadata": {
        "id": "7jpc4KWqfRFB"
      }
    },
    {
      "cell_type": "code",
      "source": [
        "from sklearn.naive_bayes import GaussianNB\n",
        "nb_classifier = GaussianNB()\n",
        "nb_classifier.fit(x_train, y_train)\n",
        "y_pred = nb_classifier.predict(x_test)\n",
        "score=accuracy_score(y_pred,y_test)\n",
        "print(score)"
      ],
      "metadata": {
        "colab": {
          "base_uri": "https://localhost:8080/"
        },
        "id": "8zp0bQ2-fZn-",
        "outputId": "edeaebaa-7fdc-404d-db0f-73688dba7011"
      },
      "execution_count": 35,
      "outputs": [
        {
          "output_type": "stream",
          "name": "stdout",
          "text": [
            "0.8477616155910183\n"
          ]
        }
      ]
    },
    {
      "cell_type": "markdown",
      "source": [
        "# **Naive Bayes Hypertuning**"
      ],
      "metadata": {
        "id": "Vh7hgER9V9NK"
      }
    },
    {
      "cell_type": "code",
      "source": [
        "from sklearn.model_selection import GridSearchCV\n",
        "params_NB = {'var_smoothing': np.logspace(0,-9, num=100)}\n",
        "gs_NB = GridSearchCV(estimator=nb_classifier, param_grid=params_NB, cv=3, verbose=1, scoring='accuracy') \n",
        "gs_NB.fit(x_train, y_train)\n",
        "\n",
        "\n",
        "y_pred = gs_NB.predict(x_test)\n",
        "score=accuracy_score(y_pred,y_test)\n",
        "print(score)"
      ],
      "metadata": {
        "colab": {
          "base_uri": "https://localhost:8080/"
        },
        "id": "iD8i_9N5VGJn",
        "outputId": "cef71f64-c4e3-4775-fb04-37c55d85dd26"
      },
      "execution_count": 57,
      "outputs": [
        {
          "output_type": "stream",
          "name": "stdout",
          "text": [
            "Fitting 3 folds for each of 100 candidates, totalling 300 fits\n",
            "0.8606129077813868\n"
          ]
        }
      ]
    },
    {
      "cell_type": "markdown",
      "source": [
        "# **MLP**"
      ],
      "metadata": {
        "id": "CDBoYHOeS3yN"
      }
    },
    {
      "cell_type": "code",
      "source": [
        "from sklearn.neural_network import MLPClassifier\n",
        "mlp = MLPClassifier(hidden_layer_sizes=(3,2),max_iter=500, activation='logistic')\n",
        "mlp.fit(x_train, y_train)\n",
        "y_pred = mlp.predict(x_test)\n",
        "score=accuracy_score(y_pred,y_test)\n",
        "print(score)"
      ],
      "metadata": {
        "colab": {
          "base_uri": "https://localhost:8080/"
        },
        "id": "qhyssf6qOMT8",
        "outputId": "978fe582-b25b-4be8-9daa-fb1875655c3b"
      },
      "execution_count": 38,
      "outputs": [
        {
          "output_type": "stream",
          "name": "stdout",
          "text": [
            "0.8676740573365344\n"
          ]
        }
      ]
    },
    {
      "cell_type": "markdown",
      "source": [
        "# **GradientBooster**"
      ],
      "metadata": {
        "id": "aINVmHUdS6Y5"
      }
    },
    {
      "cell_type": "code",
      "source": [
        "gb_classfier = ensemble.GradientBoostingClassifier()\n",
        "gb_classfier.fit(x_train, y_train)\n",
        "y_pred = gb_classfier.predict(x_test)\n",
        "score=accuracy_score(y_pred,y_test)\n",
        "print(score)"
      ],
      "metadata": {
        "colab": {
          "base_uri": "https://localhost:8080/"
        },
        "id": "iTeECKAeOeSq",
        "outputId": "ecc3b96f-5756-452a-9436-e782a6a80cc9"
      },
      "execution_count": 40,
      "outputs": [
        {
          "output_type": "stream",
          "name": "stdout",
          "text": [
            "0.8760062138116085\n"
          ]
        }
      ]
    },
    {
      "cell_type": "markdown",
      "source": [
        "# **LogisticRegression**"
      ],
      "metadata": {
        "id": "X8TThoY_S-82"
      }
    },
    {
      "cell_type": "code",
      "source": [
        "from sklearn.linear_model import LogisticRegression\n",
        "lr_classifier = LogisticRegression(max_iter=5000)\n",
        "lr_classifier.fit(x_train, y_train)\n",
        "y_pred = lr_classifier.predict(x_test)\n",
        "score=accuracy_score(y_pred,y_test)\n",
        "print(score)"
      ],
      "metadata": {
        "colab": {
          "base_uri": "https://localhost:8080/"
        },
        "id": "Sxm7jXILPQcw",
        "outputId": "652f275f-8983-4df9-e157-f1eb6ded6aab"
      },
      "execution_count": 45,
      "outputs": [
        {
          "output_type": "stream",
          "name": "stdout",
          "text": [
            "0.8709221861319023\n"
          ]
        }
      ]
    },
    {
      "cell_type": "markdown",
      "source": [
        "# **Support Vector Machine**"
      ],
      "metadata": {
        "id": "lcbOJL0gTCr6"
      }
    },
    {
      "cell_type": "code",
      "source": [
        "from sklearn.svm import SVC\n",
        "SV_classifier = SVC(probability=True, kernel='linear')\n",
        "SV_classifier.fit(x_train, y_train)\n",
        "y_pred = SV_classifier.predict(x_test)\n",
        "score=accuracy_score(y_pred,y_test)\n",
        "print(score)"
      ],
      "metadata": {
        "colab": {
          "base_uri": "https://localhost:8080/"
        },
        "id": "waw0UDLIPrEN",
        "outputId": "59e6eaac-365c-4ae1-d0d8-f687bbf8f001"
      },
      "execution_count": 47,
      "outputs": [
        {
          "output_type": "stream",
          "name": "stdout",
          "text": [
            "0.8618839147013134\n"
          ]
        }
      ]
    },
    {
      "cell_type": "markdown",
      "source": [
        "# **Adaboost**"
      ],
      "metadata": {
        "id": "HU2bWTPITGIf"
      }
    },
    {
      "cell_type": "code",
      "source": [
        "from sklearn.ensemble import AdaBoostClassifier\n",
        "AdaModel = AdaBoostClassifier(n_estimators = 100, learning_rate = 1)\n",
        "model = AdaModel.fit(x_train, y_train)\n",
        "y_pred = model.predict(x_test)\n",
        "score=accuracy_score(y_pred,y_test)\n",
        "print(score)"
      ],
      "metadata": {
        "colab": {
          "base_uri": "https://localhost:8080/"
        },
        "id": "bWKckOVzQdak",
        "outputId": "795410e2-42a0-46c9-afe1-5fe08b293fa6"
      },
      "execution_count": 49,
      "outputs": [
        {
          "output_type": "stream",
          "name": "stdout",
          "text": [
            "0.8712046321141081\n"
          ]
        }
      ]
    },
    {
      "cell_type": "markdown",
      "source": [
        "# **classifiers with adaboost**"
      ],
      "metadata": {
        "id": "ilm5hxD8RPB5"
      }
    },
    {
      "cell_type": "code",
      "source": [
        "adabc = AdaBoostClassifier(n_estimators = 150, base_estimator = nb_classifier, learning_rate = 1)\n",
        "ada = adabc.fit(x_train, y_train)\n",
        "y_pred = ada.predict(x_test)\n",
        "score=accuracy_score(y_pred,y_test)\n",
        "print(score)"
      ],
      "metadata": {
        "colab": {
          "base_uri": "https://localhost:8080/"
        },
        "id": "6wA9TsdiQtR8",
        "outputId": "89012859-3785-4612-bf33-7ac483fb4b69"
      },
      "execution_count": 50,
      "outputs": [
        {
          "output_type": "stream",
          "name": "stdout",
          "text": [
            "0.15675752012427624\n"
          ]
        }
      ]
    },
    {
      "cell_type": "code",
      "source": [
        "adabc = AdaBoostClassifier(n_estimators = 150, base_estimator = lr_classifier, learning_rate = 1)\n",
        "ada = adabc.fit(x_train, y_train)\n",
        "y_pred = ada.predict(x_test)\n",
        "score=accuracy_score(y_pred,y_test)\n",
        "print(score)"
      ],
      "metadata": {
        "colab": {
          "base_uri": "https://localhost:8080/"
        },
        "id": "xjxDYv7aR3z-",
        "outputId": "990c53ed-d559-471a-89ce-860c0deec782"
      },
      "execution_count": 53,
      "outputs": [
        {
          "output_type": "stream",
          "name": "stdout",
          "text": [
            "0.8673916113543285\n"
          ]
        }
      ]
    }
  ]
}